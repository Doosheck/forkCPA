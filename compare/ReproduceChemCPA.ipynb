{
 "cells": [
  {
   "cell_type": "markdown",
   "id": "af27b0dc",
   "metadata": {},
   "source": [
    "# Obtaining distributional metrics for the ChemCPA\n",
    "**Goal**: To obtain distributional metrics for the ChemCPA, so that we can directly compare the results to the ConditionalMongeGap model."
   ]
  },
  {
   "cell_type": "code",
   "execution_count": 1,
   "id": "a6b31437",
   "metadata": {},
   "outputs": [],
   "source": [
    "PATH = \"/home/thesis/\"\n",
    "# PATH = \"/dss/dsshome1/0A/di93hoq/\""
   ]
  },
  {
   "cell_type": "markdown",
   "id": "602d530c",
   "metadata": {},
   "source": [
    "## 1. Dataset preparation\n",
    "By design, chemCPA aims to solve a broader problem that the ConditionalMongeGap model, since it tries to make predictions for different cell lines and drug doses. To make the comparison fair, we will only select a single cell line and the highest dose on the dataset (which is what we train the ConditionalMongeGap model on).\n"
   ]
  },
  {
   "cell_type": "code",
   "execution_count": 2,
   "id": "ba69b390",
   "metadata": {},
   "outputs": [
    {
     "name": "stderr",
     "output_type": "stream",
     "text": [
      "/home/thesis/miniconda3/envs/compare_cpa/lib/python3.8/site-packages/tqdm/auto.py:21: TqdmWarning: IProgress not found. Please update jupyter and ipywidgets. See https://ipywidgets.readthedocs.io/en/stable/user_install.html\n",
      "  from .autonotebook import tqdm as notebook_tqdm\n"
     ]
    }
   ],
   "source": [
    "import scanpy as sc\n",
    "import jax.numpy as jnp\n",
    "import os\n",
    "from pathlib import Path\n",
    "from pprint import pprint\n",
    "from seml.config import generate_configs, read_config\n",
    "from chemCPA.experiments_run import ExperimentWrapper"
   ]
  },
  {
   "cell_type": "code",
   "execution_count": 3,
   "id": "b656bb8d",
   "metadata": {},
   "outputs": [],
   "source": [
    "# Load the dataset\n",
    "adata = sc.read_h5ad(PATH + \"/ConditionalMongeGap/Datasets/sciplex_complete_middle_subset.h5ad\")"
   ]
  },
  {
   "cell_type": "code",
   "execution_count": 4,
   "id": "e361eac0",
   "metadata": {},
   "outputs": [],
   "source": [
    "adata = adata[\n",
    "    (adata.obs[\"cell_type\"] == \"A549\")\n",
    "    & ((adata.obs[\"dose\"] == 10000) | (adata.obs[\"dose\"] == 0))\n",
    "]"
   ]
  },
  {
   "cell_type": "code",
   "execution_count": 5,
   "id": "3af0dc92",
   "metadata": {},
   "outputs": [],
   "source": [
    "# Save the dataset\n",
    "adata.write_h5ad(PATH + \"ConditionalMongeGap/Datasets/sciplex_complete_middle_subset_compare.h5ad\")"
   ]
  },
  {
   "cell_type": "markdown",
   "id": "9fa25142",
   "metadata": {},
   "source": [
    "## 2. Experiment\n",
    "We load the manual configuration file and run the experiment (i.e. train the model and save it)"
   ]
  },
  {
   "cell_type": "code",
   "execution_count": 6,
   "id": "99e91dc4",
   "metadata": {},
   "outputs": [
    {
     "name": "stdout",
     "output_type": "stream",
     "text": [
      "{'dataset': {'data_params': {'covariate_keys': 'cell_type',\n",
      "                             'dataset_path': '/home/thesis/ConditionalMongeGap/Datasets/sciplex_complete_middle_subset_compare.h5ad',\n",
      "                             'degs_key': 'all_DEGs',\n",
      "                             'dose_key': 'dose',\n",
      "                             'pert_category': 'cov_drug_dose_name',\n",
      "                             'perturbation_key': 'condition',\n",
      "                             'smiles_key': 'SMILES',\n",
      "                             'split_key': 'split_ood_finetuning',\n",
      "                             'use_drugs_idx': True},\n",
      "             'dataset_type': 'trapnell'},\n",
      " 'model': {'additional_params': {'decoder_activation': 'ReLU',\n",
      "                                 'doser_type': 'amortized',\n",
      "                                 'multi_task': False,\n",
      "                                 'patience': 50,\n",
      "                                 'seed': 1337},\n",
      "           'append_ae_layer': True,\n",
      "           'embedding': {'directory': 'embeddings', 'model': 'rdkit'},\n",
      "           'enable_cpa_mode': True,\n",
      "           'hparams': {'adversary_depth': 4,\n",
      "                       'adversary_lr': 0.00036374585440139074,\n",
      "                       'adversary_steps': 2,\n",
      "                       'adversary_wd': 7.459343285726542e-07,\n",
      "                       'adversary_width': 128,\n",
      "                       'autoencoder_depth': 4,\n",
      "                       'autoencoder_lr': 0.0005611516415334506,\n",
      "                       'autoencoder_wd': 1.329291894316214e-07,\n",
      "                       'autoencoder_width': 256,\n",
      "                       'batch_size': 128,\n",
      "                       'dim': 194,\n",
      "                       'dosers_depth': 3,\n",
      "                       'dosers_lr': 0.0005611516415334506,\n",
      "                       'dosers_wd': 1.329291894316214e-07,\n",
      "                       'dosers_width': 64,\n",
      "                       'dropout': 0.262378,\n",
      "                       'embedding_encoder_depth': 4,\n",
      "                       'embedding_encoder_width': 128,\n",
      "                       'penalty_adversary': 0.19906996673933372,\n",
      "                       'reg_adversary': 3.9813993347866736,\n",
      "                       'reg_adversary_cov': 11.844319751820388,\n",
      "                       'reg_multi_task': 0,\n",
      "                       'step_size_lr': 50},\n",
      "           'load_pretrained': False,\n",
      "           'pretrained_model_hashes': None,\n",
      "           'pretrained_model_path': 'checkpoints'},\n",
      " 'profiling': {'outdir': './', 'run_profiler': False},\n",
      " 'training': {'checkpoint_freq': 50,\n",
      "              'full_eval_during_train': False,\n",
      "              'max_minutes': 5,\n",
      "              'num_epochs': 500,\n",
      "              'run_eval_disentangle': True,\n",
      "              'run_eval_logfold': False,\n",
      "              'run_eval_r2': True,\n",
      "              'run_eval_r2_sc': False,\n",
      "              'save_checkpoints': True,\n",
      "              'save_dir': 'compare/checkpoints'}}\n"
     ]
    }
   ],
   "source": [
    "exp = ExperimentWrapper(init_all=False)\n",
    "# this is how seml loads the config file internally\n",
    "assert Path(\n",
    "    PATH + \"forkCPA/manual_run.yaml\"\n",
    ").exists(), \"config file not found\"\n",
    "seml_config, slurm_config, experiment_config = read_config(\n",
    "   PATH + \"forkCPA/manual_run.yaml\"\n",
    ")\n",
    "# we take the first config generated\n",
    "configs = generate_configs(experiment_config)\n",
    "if len(configs) > 1:\n",
    "    print(\"Careful, more than one config generated from the yaml file\")\n",
    "args = configs[0]\n",
    "pprint(args)\n",
    "\n",
    "exp.seed = 1337\n",
    "# loads the dataset splits\n",
    "exp.init_dataset(**args[\"dataset\"])"
   ]
  },
  {
   "cell_type": "code",
   "execution_count": 7,
   "id": "72f0a8c4",
   "metadata": {},
   "outputs": [],
   "source": [
    "exp.init_drug_embedding(embedding=args[\"model\"][\"embedding\"])\n",
    "exp.init_model(\n",
    "    hparams=args[\"model\"][\"hparams\"],\n",
    "    additional_params=args[\"model\"][\"additional_params\"],\n",
    "    load_pretrained=args[\"model\"][\"load_pretrained\"],\n",
    "    append_ae_layer=args[\"model\"][\"append_ae_layer\"],\n",
    "    enable_cpa_mode=args[\"model\"][\"enable_cpa_mode\"],\n",
    "    pretrained_model_path=args[\"model\"][\"pretrained_model_path\"],\n",
    "    pretrained_model_hashes=args[\"model\"][\"pretrained_model_hashes\"],\n",
    ")"
   ]
  },
  {
   "cell_type": "code",
   "execution_count": 8,
   "id": "656c3137",
   "metadata": {
    "scrolled": true
   },
   "outputs": [],
   "source": [
    "# setup the torch DataLoader\n",
    "exp.update_datasets()"
   ]
  },
  {
   "cell_type": "code",
   "execution_count": 9,
   "id": "60e87ac6",
   "metadata": {},
   "outputs": [
    {
     "name": "stdout",
     "output_type": "stream",
     "text": [
      "CWD: /home/thesis/forkCPA\n",
      "Save dir: compare/checkpoints\n",
      "Size of disentanglement testdata: 2667\n",
      "\n",
      "Took 1.6 min for evaluation.\n",
      "\n"
     ]
    }
   ],
   "source": [
    "train_results = exp.train(**args[\"training\"])"
   ]
  },
  {
   "cell_type": "code",
   "execution_count": 10,
   "id": "ae2bd4e5",
   "metadata": {},
   "outputs": [
    {
     "data": {
      "text/plain": [
       "['model_24.pt', 'model_21.pt', '.gitignore']"
      ]
     },
     "execution_count": 10,
     "metadata": {},
     "output_type": "execute_result"
    }
   ],
   "source": [
    "os.listdir(PATH + \"forkCPA/compare/checkpoints\")"
   ]
  },
  {
   "cell_type": "markdown",
   "id": "c10f20da",
   "metadata": {},
   "source": [
    "## 3. Prediction\n",
    "We load the trained model and make predictions on the test and out of distribution (ood) datasets. The prediction of the chemCPA model is a vector of means and standard deviations for each point in the source/control. We will use the mean as the prediction (and use it to compute the distributional metrics). "
   ]
  },
  {
   "cell_type": "code",
   "execution_count": 11,
   "id": "007f408d",
   "metadata": {},
   "outputs": [],
   "source": [
    "from notebooks.utils import compute_pred\n",
    "from chemCPA.model import ComPert\n",
    "import csv\n",
    "import torch\n",
    "import numpy as np"
   ]
  },
  {
   "cell_type": "code",
   "execution_count": 12,
   "id": "56f19d99",
   "metadata": {},
   "outputs": [],
   "source": [
    "os.chdir(PATH + \"ConditionalMongeGap/\")\n",
    "from losses import sinkhorn_div\n",
    "from utils import calculate_metrics"
   ]
  },
  {
   "cell_type": "code",
   "execution_count": 13,
   "id": "458d0dcf",
   "metadata": {},
   "outputs": [
    {
     "data": {
      "text/plain": [
       "['model_24.pt', 'model_21.pt', '.gitignore']"
      ]
     },
     "execution_count": 13,
     "metadata": {},
     "output_type": "execute_result"
    }
   ],
   "source": [
    "os.listdir(PATH + f\"forkCPA/compare/checkpoints\")"
   ]
  },
  {
   "cell_type": "code",
   "execution_count": 14,
   "id": "b6301ed0",
   "metadata": {},
   "outputs": [],
   "source": [
    "model_hash = \"model_24\"  # Fine-tuned"
   ]
  },
  {
   "cell_type": "code",
   "execution_count": 15,
   "id": "fb39911c",
   "metadata": {
    "scrolled": true
   },
   "outputs": [],
   "source": [
    "model = torch.load(PATH + f\"forkCPA/compare/checkpoints/{model_hash}.pt\")"
   ]
  },
  {
   "cell_type": "code",
   "execution_count": 16,
   "id": "4b2e0f5b",
   "metadata": {
    "scrolled": true
   },
   "outputs": [],
   "source": [
    "(\n",
    "    state_dict,\n",
    "    cov_adv_state_dicts,\n",
    "    cov_emb_state_dicts,\n",
    "    init_args,\n",
    "    history,\n",
    "\n",
    ") = model"
   ]
  },
  {
   "cell_type": "code",
   "execution_count": 17,
   "id": "d3fab07d",
   "metadata": {
    "scrolled": true
   },
   "outputs": [],
   "source": [
    "model = ComPert(\n",
    "        **init_args, drug_embeddings=exp.drug_embeddings\n",
    ")\n",
    "model = model.eval()"
   ]
  },
  {
   "cell_type": "code",
   "execution_count": 18,
   "id": "a7836884",
   "metadata": {
    "scrolled": true
   },
   "outputs": [
    {
     "name": "stdout",
     "output_type": "stream",
     "text": [
      "['A549', 'K562', 'MCF7']\n"
     ]
    },
    {
     "name": "stderr",
     "output_type": "stream",
     "text": [
      "5it [00:01,  4.37it/s]"
     ]
    },
    {
     "name": "stdout",
     "output_type": "stream",
     "text": [
      "A549_CUDC-101_1.0: -0.77\n",
      "A549_CUDC-907_1.0: -0.39\n",
      "A549_Dacinostat_1.0: -0.58\n",
      "A549_Givinostat_1.0: -1.31\n",
      "A549_Hesperadin_1.0: -0.39\n",
      "A549_Pirarubicin_1.0: -0.45\n",
      "A549_Raltitrexed_1.0: -1.69\n"
     ]
    },
    {
     "name": "stderr",
     "output_type": "stream",
     "text": [
      "9it [00:01,  4.56it/s]"
     ]
    },
    {
     "name": "stdout",
     "output_type": "stream",
     "text": [
      "A549_Tanespimycin_1.0: -1.07\n",
      "A549_Trametinib_1.0: -0.51\n"
     ]
    },
    {
     "name": "stderr",
     "output_type": "stream",
     "text": [
      "\n"
     ]
    }
   ],
   "source": [
    "drug_r2_pretrained_degs_rdkit, _ = compute_pred(\n",
    "    model,\n",
    "    exp.datasets[\"ood\"]\n",
    ")"
   ]
  },
  {
   "cell_type": "code",
   "execution_count": 19,
   "id": "d7d1899c",
   "metadata": {},
   "outputs": [],
   "source": [
    "prediction, embeddings = model.predict(\n",
    "    genes=exp.datasets[\"ood\"].genes,\n",
    "    drugs_idx=exp.datasets[\"ood\"].drugs_idx,\n",
    "    dosages=exp.datasets[\"ood\"].dosages,\n",
    "    covariates=exp.datasets[\"ood\"].covariates\n",
    ")"
   ]
  },
  {
   "cell_type": "code",
   "execution_count": 20,
   "id": "b07c5501",
   "metadata": {},
   "outputs": [
    {
     "name": "stderr",
     "output_type": "stream",
     "text": [
      "WARNING:jax._src.xla_bridge:No GPU/TPU found, falling back to CPU. (Set TF_CPP_MIN_LOG_LEVEL=0 and rerun for more info.)\n"
     ]
    },
    {
     "name": "stdout",
     "output_type": "stream",
     "text": [
      "Sinkhorn divergence target and prediction for CUDC-101    :     91.97215\n",
      "Sinkhorn divergence target and prediction for CUDC-907    :     92.39673\n",
      "Sinkhorn divergence target and prediction for Dacinostat  :     95.05641\n",
      "Sinkhorn divergence target and prediction for Givinostat  :     92.18755\n",
      "Sinkhorn divergence target and prediction for Hesperadin  :     84.31055\n",
      "Sinkhorn divergence target and prediction for Pirarubicin :    101.57546\n",
      "Sinkhorn divergence target and prediction for Raltitrexed :     93.96259\n",
      "Sinkhorn divergence target and prediction for Tanespimycin:    105.46171\n",
      "Sinkhorn divergence target and prediction for Trametinib  :    106.65128\n"
     ]
    }
   ],
   "source": [
    "for name in np.unique(exp.datasets[\"ood\"].drugs_names):\n",
    "    section = (exp.datasets[\"ood\"].drugs_names == name)\n",
    "    value = sinkhorn_div(\n",
    "        jnp.asarray(prediction.detach().numpy()[section, 0:2000]),\n",
    "        jnp.asarray(exp.datasets[\"ood\"].genes[section]),\n",
    "    )\n",
    "    print(f\"Sinkhorn divergence target and prediction for {name:12s}: {value:12.5f}\")"
   ]
  },
  {
   "cell_type": "code",
   "execution_count": 21,
   "id": "899733b7",
   "metadata": {},
   "outputs": [
    {
     "name": "stdout",
     "output_type": "stream",
     "text": [
      "\n",
      "Condition                     Typr           r2                  mae                 SINK(S,T)           SINK(T,P)                  MMD(S,T)            MMD(T,P)            FID(S,T)         FID(S,P)              E(S,T)              E(T,P)\n",
      "2-Methoxyestradiol            test                    -0.071               0.067             139.663             117.117              31.054              74.519             135.658             152.878               3.016              12.488\n",
      "A-366                         test                    -0.091               0.064             122.607             100.221              13.097              55.139             107.606             121.955               1.374              10.560\n",
      "ABT-737                       test                    -0.083               0.071             127.905             105.567              25.684              70.175             119.974             137.599               3.013              12.494\n",
      "AC480                         test                    -0.076               0.064             145.356             123.944              23.945              65.124             135.908             148.293               1.846              11.221\n",
      "AG-14361                      test                    -0.059               0.070             142.915             121.613              39.305              85.314             146.980             163.965               4.057              13.840\n",
      "AG-490                        test                    -0.085               0.069             136.494             106.251              30.701              66.910             122.643             147.675               3.256              12.023\n",
      "AICAR                         test                    -0.085               0.060             142.570             121.258              13.745              52.011             127.344             133.259               0.917               9.995\n",
      "AMG-900                       test                    -0.098               0.069             124.777             105.669              15.839              61.001             114.260             125.708               1.684              11.217\n",
      "AR-42                         test                    -0.116               0.062             157.971              98.798              41.016              45.433             100.951             144.199               3.496               9.553\n",
      "AT9283                        test                    -0.082               0.068             128.819             103.303              25.771              67.135             118.423             139.223               2.880              12.004\n",
      "AZ                            test                    -0.107               0.070             113.328              90.413              15.155              59.152              99.368             117.415               2.225              11.484\n",
      "AZD1480                       test                    -0.087               0.069             107.550              88.252              14.931              64.017              97.467             113.131               2.653              12.370\n",
      "Abexinostat                   test                    -0.125               0.063             148.666              99.611              31.562              44.100             100.845             124.542               2.706               9.412\n",
      "Alendronate                   test                    -0.081               0.065             129.408             110.378              17.520              62.370             119.696             130.754               1.725              11.223\n",
      "Alisertib                     test                    -0.103               0.060             121.262             102.421               4.897              45.359             104.337              99.053               0.451               9.543\n",
      "Altretamine                   test                    -0.092               0.063             136.237             117.889              15.585              58.879             125.511             132.738               1.190              10.677\n",
      "Alvespimycin                  test                    -0.097               0.063             133.256             118.234               9.502              52.779             120.698             111.843               0.738              10.233\n",
      "Aminoglutethimide             test                    -0.096               0.063             130.866             108.947              14.413              54.967             116.682             128.594               1.293              10.428\n",
      "Amisulpride                   test                    -0.073               0.067             158.628             134.267              38.376              78.481             153.061             170.618               2.841              12.234\n",
      "Anacardic                     test                    -0.083               0.065             147.355             124.094              27.944              67.500             138.314             153.213               2.172              11.394\n",
      "Andarine                      test                    -0.083               0.067             130.456             114.861              16.251              64.084             123.236             130.194               1.515              11.337\n",
      "Aurora                        test                    -0.098               0.073             110.841              91.145              16.450              65.380             100.912             117.192               2.752              12.501\n",
      "Avagacestat                   test                    -0.076               0.067             130.880             112.708              21.447              68.936             126.042             138.389               2.224              12.030\n",
      "Azacitidine                   test                    -0.110               0.072             127.141             108.744              17.321              63.243             116.240             126.740               1.704              11.351\n",
      "BMS-265246                    test                    -0.081               0.066             119.860              91.151              20.619              58.859             103.927             128.107               2.787              11.530\n",
      "BMS-536924                    test                    -0.082               0.067             134.210             118.916              20.779              69.308             128.635             135.947               1.918              11.852\n",
      "BMS-754807                    test                    -0.101               0.062             122.439             108.810               5.180              49.459             110.423              95.756               0.460               9.947\n",
      "BMS-911543                    test                    -0.078               0.063             148.505             123.807              25.875              64.284             136.209             152.414               1.823              10.936\n",
      "BRD4770                       test                    -0.074               0.066             128.678             112.065              17.507              65.462             121.179             130.364               1.708              11.573\n",
      "Barasertib                    test                    -0.096               0.064             112.345             101.483               4.371              53.602             103.112              91.866               0.531              10.371\n",
      "Baricitinib                   test                    -0.087               0.067             129.846             104.169              22.352              62.325             116.878             136.707               2.327              11.390\n"
     ]
    },
    {
     "ename": "",
     "evalue": "",
     "output_type": "error",
     "traceback": [
      "\u001b[1;31mCannot execute code, session has been disposed. Please try restarting the Kernel."
     ]
    },
    {
     "ename": "",
     "evalue": "",
     "output_type": "error",
     "traceback": [
      "\u001b[1;31mThe Kernel crashed while executing code in the the current cell or a previous cell. Please review the code in the cell(s) to identify a possible cause of the failure. Click <a href='https://aka.ms/vscodeJupyterKernelCrash'>here</a> for more info. View Jupyter <a href='command:jupyter.viewOutput'>log</a> for further details."
     ]
    }
   ],
   "source": [
    "with open(PATH+ \"forkCPA/compare/results.csv\", 'w') as f:\n",
    "    w = csv.DictWriter(f, [\"name\", \"type\", \"r2\", \"mae\", \"sinkhorn_source_target\", \"sinkhorn_target_pred\", \"mmd_source_target\", \"mmd_target_pred\", \"fid_source_target\", \"fid_target_pred\", \"e_source_target\", \"e_target_pred\"])\n",
    "    w.writeheader()\n",
    "    print(\n",
    "        f\"\\n{'Condition':25s}{'':5s}\" +\n",
    "        f\"{'Typr':10s}{'':5s}{'r2':15s}{'':5s}{'mae':15s}\" +\n",
    "        f\"{'':5s}{'SINK(S,T)':15s}{'':5s}{'SINK(T,P)':15s}\" +\n",
    "        f\"{'':5s}{'MMD(S,T)':>15s}{'':5s}{'MMD(T,P)':>15s}\"+\n",
    "        f\"{'':5s}{'FID(S,T)':>15s}{'':5s}{'FID(S,P)':>12s}\" +\n",
    "        f\"{'':5s}{'E(S,T)':>15s}{'':5s}{'E(T,P)':>15s}\"\n",
    "    )\n",
    "    for type_ in [\"test\", \"ood\"]:\n",
    "        prediction, embeddings = model.predict(\n",
    "            genes=exp.datasets[type_].genes,\n",
    "            drugs_idx=exp.datasets[type_].drugs_idx,\n",
    "            dosages=exp.datasets[type_].dosages,\n",
    "            covariates=exp.datasets[type_].covariates\n",
    "        )\n",
    "\n",
    "        for name in np.unique(exp.datasets[type_].drugs_names):\n",
    "            section = (exp.datasets[type_].drugs_names == name)\n",
    "            results = calculate_metrics(\n",
    "                name=name,\n",
    "                type=type_,\n",
    "                source=jnp.asarray(exp.datasets[\"training_control\"].genes[0:len(section)]),\n",
    "                target=jnp.asarray(exp.datasets[type_].genes[section]),\n",
    "                predicted=jnp.asarray(prediction.detach().numpy()[section, 0:2000]),\n",
    "                epsilon=0.1,\n",
    "                epsilon_mmd=100\n",
    "            )\n",
    "            \n",
    "\n",
    "            print(\n",
    "                (\"{:25s}{:5s}{:10s}{:5s}\" + \"{:>15.3f}{:5s}\" * 9 +\"{:15.3f}\").format(\n",
    "                    name,\n",
    "                    '',\n",
    "                    type_,\n",
    "                    '',\n",
    "                    results['r2'],\n",
    "                    '',\n",
    "                    results[\"mae\"],\n",
    "                    '',\n",
    "                    results['sinkhorn_source_target'],\n",
    "                    '',\n",
    "                    results['sinkhorn_target_pred'],\n",
    "                    '' ,\n",
    "                    results['mmd_source_target'],\n",
    "                    '',\n",
    "                    results['mmd_target_pred'],\n",
    "                    '',\n",
    "                    results['fid_target_pred'],\n",
    "                    '',\n",
    "                    results['fid_source_target'],\n",
    "                    '',\n",
    "                    results['e_source_target'],\n",
    "                    '',\n",
    "                    results['e_target_pred']\n",
    "                )\n",
    "        )\n",
    "        print([\"-\"]*210)\n",
    "        w.writerow(results)"
   ]
  }
 ],
 "metadata": {
  "kernelspec": {
   "display_name": "Python 3 (ipykernel)",
   "language": "python",
   "name": "python3"
  },
  "language_info": {
   "codemirror_mode": {
    "name": "ipython",
    "version": 3
   },
   "file_extension": ".py",
   "mimetype": "text/x-python",
   "name": "python",
   "nbconvert_exporter": "python",
   "pygments_lexer": "ipython3",
   "version": "3.10.12"
  }
 },
 "nbformat": 4,
 "nbformat_minor": 5
}
