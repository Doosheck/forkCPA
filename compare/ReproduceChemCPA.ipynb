{
 "cells": [
  {
   "cell_type": "code",
   "execution_count": 1,
   "id": "c33b730d",
   "metadata": {},
   "outputs": [],
   "source": [
    "PATH = \"/home/thesis/\"\n",
    "# PATH = \"/dss/dsshome1/0A/di93hoq/\""
   ]
  },
  {
   "cell_type": "code",
   "execution_count": 4,
   "id": "a87c1c68",
   "metadata": {},
   "outputs": [],
   "source": [
    "import scanpy as sc\n",
    "import numpy as np\n",
    "import os\n",
    "from pathlib import Path\n",
    "from pprint import pprint\n",
    "from seml.config import generate_configs, read_config\n",
    "from chemCPA.experiments_run import ExperimentWrapper"
   ]
  },
  {
   "cell_type": "code",
   "execution_count": 5,
   "id": "e6284d39",
   "metadata": {},
   "outputs": [],
   "source": [
    "os.chdir(PATH + \"ConditionalMongeGap/\")\n",
    "from losses import sinkhorn_div"
   ]
  },
  {
   "cell_type": "code",
   "execution_count": 3,
   "id": "4347611e",
   "metadata": {
    "scrolled": true
   },
   "outputs": [
    {
     "data": {
      "text/plain": [
       "'/dss/dsshome1/0A/di93hoq/forkCPA/compare'"
      ]
     },
     "execution_count": 3,
     "metadata": {},
     "output_type": "execute_result"
    }
   ],
   "source": [
    "os.getcwd()"
   ]
  },
  {
   "cell_type": "code",
   "execution_count": 4,
   "id": "e832ad83",
   "metadata": {},
   "outputs": [],
   "source": [
    "# Load the dataset\n",
    "adata = sc.read_h5ad(PATH + \"/ConditionalMongeGap/Datasets/sciplex_complete_middle_subset.h5ad\")"
   ]
  },
  {
   "cell_type": "code",
   "execution_count": 5,
   "id": "a509522c",
   "metadata": {},
   "outputs": [],
   "source": [
    "adata = adata[\n",
    "    (adata.obs[\"cell_type\"] == \"A549\")\n",
    "    & ((adata.obs[\"dose\"] == 10000) | (adata.obs[\"dose\"] == 0))\n",
    "]"
   ]
  },
  {
   "cell_type": "code",
   "execution_count": 7,
   "id": "2dcb945d",
   "metadata": {},
   "outputs": [],
   "source": [
    "# Save the dataset\n",
    "adata.write_h5ad(PATH + \"ConditionalMongeGap/Datasets/sciplex_complete_middle_subset_compare.h5ad\")"
   ]
  },
  {
   "cell_type": "code",
   "execution_count": 8,
   "id": "bba2e623",
   "metadata": {
    "scrolled": true
   },
   "outputs": [
    {
     "name": "stdout",
     "output_type": "stream",
     "text": [
      "/dss/dsshome1/0A/di93hoq/forkCPA\n"
     ]
    }
   ],
   "source": [
    "os.chdir(PATH + \"forkCPA/\")"
   ]
  },
  {
   "cell_type": "code",
   "execution_count": 9,
   "id": "092247cc",
   "metadata": {},
   "outputs": [
    {
     "name": "stdout",
     "output_type": "stream",
     "text": [
      "{'dataset': {'data_params': {'covariate_keys': 'cell_type',\n",
      "                             'dataset_path': '/dss/dsshome1/0A/di93hoq/ConditionalMongeGap/Datasets/sciplex_complete_middle_subset_compare.h5ad',\n",
      "                             'degs_key': 'all_DEGs',\n",
      "                             'dose_key': 'dose',\n",
      "                             'pert_category': 'cov_drug_dose_name',\n",
      "                             'perturbation_key': 'condition',\n",
      "                             'smiles_key': 'SMILES',\n",
      "                             'split_key': 'split_ood_finetuning',\n",
      "                             'use_drugs_idx': True},\n",
      "             'dataset_type': 'trapnell'},\n",
      " 'model': {'additional_params': {'decoder_activation': 'ReLU',\n",
      "                                 'doser_type': 'amortized',\n",
      "                                 'multi_task': False,\n",
      "                                 'patience': 50,\n",
      "                                 'seed': 1337},\n",
      "           'append_ae_layer': True,\n",
      "           'embedding': {'directory': 'embeddings', 'model': 'rdkit'},\n",
      "           'enable_cpa_mode': True,\n",
      "           'hparams': {'adversary_depth': 2,\n",
      "                       'adversary_lr': 0.00036374585440139074,\n",
      "                       'adversary_steps': 2,\n",
      "                       'adversary_wd': 7.459343285726542e-07,\n",
      "                       'adversary_width': 256,\n",
      "                       'autoencoder_depth': 4,\n",
      "                       'autoencoder_lr': 0.0005611516415334506,\n",
      "                       'autoencoder_wd': 1.329291894316214e-07,\n",
      "                       'autoencoder_width': 256,\n",
      "                       'batch_size': 128,\n",
      "                       'dim': 194,\n",
      "                       'dosers_depth': 3,\n",
      "                       'dosers_lr': 0.0005611516415334506,\n",
      "                       'dosers_wd': 1.329291894316214e-07,\n",
      "                       'dosers_width': 64,\n",
      "                       'dropout': 0.262378,\n",
      "                       'embedding_encoder_depth': 4,\n",
      "                       'embedding_encoder_width': 128,\n",
      "                       'penalty_adversary': 0.19906996673933372,\n",
      "                       'reg_adversary': 3.9813993347866736,\n",
      "                       'reg_adversary_cov': 11.844319751820388,\n",
      "                       'reg_multi_task': 0,\n",
      "                       'step_size_lr': 50},\n",
      "           'load_pretrained': False,\n",
      "           'pretrained_model_hashes': None,\n",
      "           'pretrained_model_path': 'checkpoints'},\n",
      " 'profiling': {'outdir': './', 'run_profiler': False},\n",
      " 'training': {'checkpoint_freq': 2,\n",
      "              'full_eval_during_train': False,\n",
      "              'max_minutes': 5,\n",
      "              'num_epochs': 100,\n",
      "              'run_eval_disentangle': True,\n",
      "              'run_eval_logfold': False,\n",
      "              'run_eval_r2': True,\n",
      "              'run_eval_r2_sc': False,\n",
      "              'save_checkpoints': True,\n",
      "              'save_dir': 'compare/checkpoints'}}\n"
     ]
    }
   ],
   "source": [
    "exp = ExperimentWrapper(init_all=False)\n",
    "# this is how seml loads the config file internally\n",
    "assert Path(\n",
    "    \"manual_run.yaml\"\n",
    ").exists(), \"config file not found\"\n",
    "seml_config, slurm_config, experiment_config = read_config(\n",
    "   \"manual_run.yaml\"\n",
    ")\n",
    "# we take the first config generated\n",
    "configs = generate_configs(experiment_config)\n",
    "if len(configs) > 1:\n",
    "    print(\"Careful, more than one config generated from the yaml file\")\n",
    "args = configs[0]\n",
    "pprint(args)\n",
    "\n",
    "exp.seed = 1337\n",
    "# loads the dataset splits\n",
    "exp.init_dataset(**args[\"dataset\"])"
   ]
  },
  {
   "cell_type": "code",
   "execution_count": 10,
   "id": "dda03847",
   "metadata": {},
   "outputs": [],
   "source": [
    "exp.init_drug_embedding(embedding=args[\"model\"][\"embedding\"])\n",
    "exp.init_model(\n",
    "    hparams=args[\"model\"][\"hparams\"],\n",
    "    additional_params=args[\"model\"][\"additional_params\"],\n",
    "    load_pretrained=args[\"model\"][\"load_pretrained\"],\n",
    "    append_ae_layer=args[\"model\"][\"append_ae_layer\"],\n",
    "    enable_cpa_mode=args[\"model\"][\"enable_cpa_mode\"],\n",
    "    pretrained_model_path=args[\"model\"][\"pretrained_model_path\"],\n",
    "    pretrained_model_hashes=args[\"model\"][\"pretrained_model_hashes\"],\n",
    ")"
   ]
  },
  {
   "cell_type": "code",
   "execution_count": 11,
   "id": "9697edc0",
   "metadata": {},
   "outputs": [
    {
     "data": {
      "text/plain": [
       "dict_keys(['training', 'training_control', 'training_treated', 'test', 'test_control', 'test_treated', 'ood'])"
      ]
     },
     "execution_count": 11,
     "metadata": {},
     "output_type": "execute_result"
    }
   ],
   "source": [
    "exp.datasets.keys()"
   ]
  },
  {
   "cell_type": "code",
   "execution_count": 12,
   "id": "5541f394",
   "metadata": {
    "scrolled": true
   },
   "outputs": [],
   "source": [
    "# setup the torch DataLoader\n",
    "exp.update_datasets()"
   ]
  },
  {
   "cell_type": "code",
   "execution_count": 13,
   "id": "5fa47c6c",
   "metadata": {},
   "outputs": [
    {
     "name": "stdout",
     "output_type": "stream",
     "text": [
      "CWD: /dss/dsshome1/0A/di93hoq/forkCPA\n",
      "Save dir: compare/checkpoints\n",
      "Size of disentanglement testdata: 2667\n",
      "\n",
      "Took 1.5 min for evaluation.\n",
      "\n"
     ]
    },
    {
     "data": {
      "text/plain": [
       "{'epoch': [0,\n",
       "  1,\n",
       "  2,\n",
       "  3,\n",
       "  4,\n",
       "  5,\n",
       "  6,\n",
       "  7,\n",
       "  8,\n",
       "  9,\n",
       "  10,\n",
       "  11,\n",
       "  12,\n",
       "  13,\n",
       "  14,\n",
       "  15,\n",
       "  16,\n",
       "  17,\n",
       "  18,\n",
       "  19,\n",
       "  20,\n",
       "  21,\n",
       "  22,\n",
       "  23,\n",
       "  24,\n",
       "  25,\n",
       "  26,\n",
       "  27,\n",
       "  28,\n",
       "  29,\n",
       "  30,\n",
       "  31,\n",
       "  32,\n",
       "  33,\n",
       "  34,\n",
       "  35,\n",
       "  36],\n",
       " 'stats_epoch': [36],\n",
       " 'loss_reconstruction': [-278.66813130676746,\n",
       "  -490.9462865740061,\n",
       "  -515.5409076213837,\n",
       "  -553.6104661822319,\n",
       "  -563.2690917849541,\n",
       "  -579.3865351080894,\n",
       "  -601.3836835026741,\n",
       "  -611.4821467399597,\n",
       "  -616.7225347459316,\n",
       "  -622.3780278116465,\n",
       "  -625.1538212895393,\n",
       "  -626.7321664690971,\n",
       "  -629.1828764528036,\n",
       "  -628.9401694089174,\n",
       "  -620.441006064415,\n",
       "  -638.9769082665443,\n",
       "  -625.7234669029713,\n",
       "  -642.139610901475,\n",
       "  -645.9147500991821,\n",
       "  -651.2050248384476,\n",
       "  -653.9029611051083,\n",
       "  -621.4622209817171,\n",
       "  -633.6607711911201,\n",
       "  -645.3905718326569,\n",
       "  -641.8460663557053,\n",
       "  -655.5221939086914,\n",
       "  -654.988538146019,\n",
       "  -660.0596520900726,\n",
       "  -662.2556347846985,\n",
       "  -647.3766260147095,\n",
       "  -652.9646739959717,\n",
       "  -656.1138916015625,\n",
       "  -656.5170629024506,\n",
       "  -658.8102036714554,\n",
       "  -663.3251295089722,\n",
       "  -654.8805834054947,\n",
       "  -652.2333102226257],\n",
       " 'loss_adv_drugs': [1050.7192554473877,\n",
       "  1035.6202645301819,\n",
       "  1019.7808685302734,\n",
       "  1015.1168441772461,\n",
       "  1012.6039929389954,\n",
       "  1017.7017245292664,\n",
       "  1015.7177243232727,\n",
       "  1014.858811378479,\n",
       "  1018.6428728103638,\n",
       "  1019.4927744865417,\n",
       "  1019.2868161201477,\n",
       "  1023.9555006027222,\n",
       "  1022.6867089271545,\n",
       "  1022.5387334823608,\n",
       "  1022.6519618034363,\n",
       "  1017.9637489318848,\n",
       "  1016.4482278823853,\n",
       "  1015.9886999130249,\n",
       "  1017.4775991439819,\n",
       "  1017.5745310783386,\n",
       "  1019.356005191803,\n",
       "  1017.3227491378784,\n",
       "  1014.0013809204102,\n",
       "  1016.0217938423157,\n",
       "  1017.5118856430054,\n",
       "  1017.3219017982483,\n",
       "  1017.4725413322449,\n",
       "  1017.7113857269287,\n",
       "  1017.9357862472534,\n",
       "  1016.1952691078186,\n",
       "  1014.7718939781189,\n",
       "  1016.1965885162354,\n",
       "  1017.5836081504822,\n",
       "  1015.4053478240967,\n",
       "  1016.3260226249695,\n",
       "  1016.6755290031433,\n",
       "  1012.8532867431641],\n",
       " 'loss_adv_covariates': [0.0,\n",
       "  0.0,\n",
       "  0.0,\n",
       "  0.0,\n",
       "  0.0,\n",
       "  0.0,\n",
       "  0.0,\n",
       "  0.0,\n",
       "  0.0,\n",
       "  0.0,\n",
       "  0.0,\n",
       "  0.0,\n",
       "  0.0,\n",
       "  0.0,\n",
       "  0.0,\n",
       "  0.0,\n",
       "  0.0,\n",
       "  0.0,\n",
       "  0.0,\n",
       "  0.0,\n",
       "  0.0,\n",
       "  0.0,\n",
       "  0.0,\n",
       "  0.0,\n",
       "  0.0,\n",
       "  0.0,\n",
       "  0.0,\n",
       "  0.0,\n",
       "  0.0,\n",
       "  0.0,\n",
       "  0.0,\n",
       "  0.0,\n",
       "  0.0,\n",
       "  0.0,\n",
       "  0.0,\n",
       "  0.0,\n",
       "  0.0],\n",
       " 'penalty_adv_drugs': [9.934300143271685,\n",
       "  0.9418079659808427,\n",
       "  0.25047679292038083,\n",
       "  0.14825753681361675,\n",
       "  0.14221721311332658,\n",
       "  0.05631355816149153,\n",
       "  0.04287332104286179,\n",
       "  0.04029629798606038,\n",
       "  0.02544402472267393,\n",
       "  0.022344482742482796,\n",
       "  0.020340728384326212,\n",
       "  0.014930032775737345,\n",
       "  0.014692499236844014,\n",
       "  0.018198899007984437,\n",
       "  0.017763485753675923,\n",
       "  0.0212867268055561,\n",
       "  0.017203440438606776,\n",
       "  0.02757579264289234,\n",
       "  0.015684842008340638,\n",
       "  0.015169487953244243,\n",
       "  0.013301770137331914,\n",
       "  0.013016951925237663,\n",
       "  0.010093219883856364,\n",
       "  0.012341689100139774,\n",
       "  0.01414263167680474,\n",
       "  0.012660014755965676,\n",
       "  0.013229873380623758,\n",
       "  0.011349602340487763,\n",
       "  0.012029244644509163,\n",
       "  0.013282766078191344,\n",
       "  0.013869723581592552,\n",
       "  0.01352156161738094,\n",
       "  0.011903149272256996,\n",
       "  0.01223856025171699,\n",
       "  0.012266195459233131,\n",
       "  0.011456273015937768,\n",
       "  0.020555751863867044],\n",
       " 'penalty_adv_covariates': [0.056144639071135316,\n",
       "  0.0030936324492358835,\n",
       "  0.0004955019267072203,\n",
       "  0.00024051647955047883,\n",
       "  0.00020680871125478006,\n",
       "  0.00031348978006917605,\n",
       "  0.00037907788066604553,\n",
       "  0.00015093082970452087,\n",
       "  0.00031392529626828036,\n",
       "  0.00034171872016486304,\n",
       "  0.0001495786279974709,\n",
       "  0.0002671219377248235,\n",
       "  0.00021880300494103722,\n",
       "  8.787786455854985e-05,\n",
       "  6.562582438363052e-05,\n",
       "  2.2450447595190326e-05,\n",
       "  1.0788528406635578e-05,\n",
       "  8.410025865934756e-06,\n",
       "  6.6527501596524985e-06,\n",
       "  1.0269162235232443e-05,\n",
       "  8.84825559843705e-06,\n",
       "  1.6551557861177457e-05,\n",
       "  1.3213783390142453e-05,\n",
       "  1.4664927521224058e-05,\n",
       "  4.438525096794876e-06,\n",
       "  3.4958845143151507e-06,\n",
       "  2.239507982393363e-06,\n",
       "  1.9363182091058917e-06,\n",
       "  1.1614132254811338e-06,\n",
       "  1.1080018629261446e-06,\n",
       "  1.915545581043787e-06,\n",
       "  5.358219660189789e-07,\n",
       "  5.9366008109407176e-08,\n",
       "  1.1380770957580832e-08,\n",
       "  2.1628323789053827e-09,\n",
       "  3.589250861585e-10,\n",
       "  4.023359240440481e-11],\n",
       " 'loss_multi_task': [0.0,\n",
       "  0.0,\n",
       "  0.0,\n",
       "  0.0,\n",
       "  0.0,\n",
       "  0.0,\n",
       "  0.0,\n",
       "  0.0,\n",
       "  0.0,\n",
       "  0.0,\n",
       "  0.0,\n",
       "  0.0,\n",
       "  0.0,\n",
       "  0.0,\n",
       "  0.0,\n",
       "  0.0,\n",
       "  0.0,\n",
       "  0.0,\n",
       "  0.0,\n",
       "  0.0,\n",
       "  0.0,\n",
       "  0.0,\n",
       "  0.0,\n",
       "  0.0,\n",
       "  0.0,\n",
       "  0.0,\n",
       "  0.0,\n",
       "  0.0,\n",
       "  0.0,\n",
       "  0.0,\n",
       "  0.0,\n",
       "  0.0,\n",
       "  0.0,\n",
       "  0.0,\n",
       "  0.0,\n",
       "  0.0,\n",
       "  0.0],\n",
       " 'elapsed_time_min': 5.110555672645569,\n",
       " 'perturbation disentanglement': [0.9999999403953552],\n",
       " 'optimal for perturbations': [0.10348706411698538],\n",
       " 'covariate disentanglement': [[0.9999999403953552]],\n",
       " 'optimal for covariates': [[1.0]],\n",
       " 'training': [[0.8347782901163852,\n",
       "   0.8077160890182752,\n",
       "   0.8657790640096986,\n",
       "   0.7943152165814732]],\n",
       " 'test': [[0.6909025144354205,\n",
       "   0.6871094040781538,\n",
       "   0.5874219536781311,\n",
       "   0.5498047030974771]],\n",
       " 'ood': [[0.4900315006573995,\n",
       "   0.2483490506807963,\n",
       "   0.5388912359873453,\n",
       "   0.2709740930133396]],\n",
       " 'total_epochs': 36}"
      ]
     },
     "execution_count": 13,
     "metadata": {},
     "output_type": "execute_result"
    }
   ],
   "source": [
    "exp.train(**args[\"training\"])"
   ]
  },
  {
   "cell_type": "code",
   "execution_count": 14,
   "id": "b3bb25d0",
   "metadata": {},
   "outputs": [
    {
     "name": "stdout",
     "output_type": "stream",
     "text": [
      "model_36.pt  model_4.pt\n"
     ]
    }
   ],
   "source": [
    "!ls compare/checkpoints"
   ]
  },
  {
   "cell_type": "markdown",
   "id": "14a10a4c",
   "metadata": {},
   "source": [
    "# Model loading and preparation"
   ]
  },
  {
   "cell_type": "code",
   "execution_count": 23,
   "id": "3a301e4f",
   "metadata": {
    "scrolled": true
   },
   "outputs": [
    {
     "data": {
      "text/plain": [
       "'/dss/dsshome1/0A/di93hoq/forkCPA'"
      ]
     },
     "execution_count": 23,
     "metadata": {},
     "output_type": "execute_result"
    }
   ],
   "source": [
    "os.getcwd()"
   ]
  },
  {
   "cell_type": "code",
   "execution_count": 24,
   "id": "05d40f4b",
   "metadata": {},
   "outputs": [],
   "source": [
    "from notebooks.utils import load_config, load_dataset, load_model, load_smiles, compute_pred\n",
    "from chemCPA.train import evaluate, compute_prediction, repeat_n\n",
    "import torch\n",
    "from chemCPA.model import ComPert"
   ]
  },
  {
   "cell_type": "code",
   "execution_count": 25,
   "id": "50c8bd68",
   "metadata": {},
   "outputs": [],
   "source": [
    "seml_collection = \"multi_task\"\n",
    "model_hash_pretrained_rdkit = \"model_4\"  # Fine-tuned"
   ]
  },
  {
   "cell_type": "code",
   "execution_count": 26,
   "id": "81d2db1f",
   "metadata": {
    "scrolled": true
   },
   "outputs": [],
   "source": [
    "model = torch.load(\"compare/checkpoints/model_36.pt\")"
   ]
  },
  {
   "cell_type": "code",
   "execution_count": 27,
   "id": "1118682b",
   "metadata": {
    "scrolled": true
   },
   "outputs": [],
   "source": [
    "(\n",
    "    state_dict,\n",
    "    cov_adv_state_dicts,\n",
    "    cov_emb_state_dicts,\n",
    "    init_args,\n",
    "    history,\n",
    "        ) = model"
   ]
  },
  {
   "cell_type": "code",
   "execution_count": 28,
   "id": "16fbdc0c",
   "metadata": {
    "scrolled": true
   },
   "outputs": [],
   "source": [
    "model = ComPert(\n",
    "        **init_args, drug_embeddings=exp.drug_embeddings\n",
    ")\n",
    "model = model.eval()"
   ]
  },
  {
   "cell_type": "code",
   "execution_count": 29,
   "id": "4c3cc039",
   "metadata": {
    "scrolled": true
   },
   "outputs": [
    {
     "name": "stdout",
     "output_type": "stream",
     "text": [
      "['A549', 'K562', 'MCF7']\n"
     ]
    },
    {
     "name": "stderr",
     "output_type": "stream",
     "text": [
      "9it [00:00, 50.34it/s]"
     ]
    },
    {
     "name": "stdout",
     "output_type": "stream",
     "text": [
      "A549_CUDC-101_1.0: -0.77\n",
      "A549_CUDC-907_1.0: -0.41\n",
      "A549_Dacinostat_1.0: -0.58\n",
      "A549_Givinostat_1.0: -1.31\n",
      "A549_Hesperadin_1.0: -0.44\n",
      "A549_Pirarubicin_1.0: -0.46\n",
      "A549_Raltitrexed_1.0: -1.64\n",
      "A549_Tanespimycin_1.0: -1.09\n",
      "A549_Trametinib_1.0: -0.56\n"
     ]
    },
    {
     "name": "stderr",
     "output_type": "stream",
     "text": [
      "\n"
     ]
    }
   ],
   "source": [
    "drug_r2_pretrained_degs_rdkit, _ = compute_pred(\n",
    "    model,\n",
    "    exp.datasets[\"ood\"]\n",
    ")"
   ]
  },
  {
   "cell_type": "code",
   "execution_count": 31,
   "id": "10cbf954",
   "metadata": {},
   "outputs": [
    {
     "data": {
      "text/plain": [
       "(tensor([[0.0366, 0.0855, 0.0778,  ..., 0.7143, 0.6959, 0.6535],\n",
       "         [0.0368, 0.0855, 0.0777,  ..., 0.7143, 0.6959, 0.6536],\n",
       "         [0.0365, 0.0857, 0.0777,  ..., 0.7142, 0.6959, 0.6535],\n",
       "         ...,\n",
       "         [0.0368, 0.0855, 0.0778,  ..., 0.7142, 0.6959, 0.6536],\n",
       "         [0.0367, 0.0853, 0.0778,  ..., 0.7142, 0.6958, 0.6536],\n",
       "         [0.0366, 0.0852, 0.0780,  ..., 0.7145, 0.6959, 0.6537]],\n",
       "        grad_fn=<CatBackward0>),\n",
       " tensor([[-1.4938,  0.8747,  0.9239,  ..., -0.0722, -0.0473,  0.0108],\n",
       "         [-1.4938,  0.8747,  0.9239,  ..., -0.0642, -0.0438,  0.0150],\n",
       "         [-1.4938,  0.8747,  0.9239,  ..., -0.0625, -0.0356,  0.0140],\n",
       "         ...,\n",
       "         [-1.4938,  0.8747,  0.9239,  ..., -0.0642, -0.0438,  0.0150],\n",
       "         [-1.4938,  0.8747,  0.9239,  ..., -0.0670, -0.0402,  0.0243],\n",
       "         [-1.4938,  0.8747,  0.9239,  ..., -0.0520, -0.0328,  0.0136]],\n",
       "        grad_fn=<CatBackward0>))"
      ]
     },
     "execution_count": 31,
     "metadata": {},
     "output_type": "execute_result"
    }
   ],
   "source": [
    "model.predict(\n",
    "    genes=exp.datasets[\"ood\"].genes,\n",
    "    drugs_idx=exp.datasets[\"ood\"].drugs_idx,\n",
    "    dosages=exp.datasets[\"ood\"].dosages,\n",
    "    covariates=exp.datasets[\"ood\"].covariates\n",
    ")"
   ]
  }
 ],
 "metadata": {
  "kernelspec": {
   "display_name": "Python 3 (ipykernel)",
   "language": "python",
   "name": "python3"
  },
  "language_info": {
   "codemirror_mode": {
    "name": "ipython",
    "version": 3
   },
   "file_extension": ".py",
   "mimetype": "text/x-python",
   "name": "python",
   "nbconvert_exporter": "python",
   "pygments_lexer": "ipython3",
   "version": "3.8.18"
  }
 },
 "nbformat": 4,
 "nbformat_minor": 5
}
