{
 "cells": [
  {
   "cell_type": "markdown",
   "id": "4a16d337",
   "metadata": {},
   "source": [
    "# Obtaining distributional metrics for the ChemCPA\n",
    "**Goal**: To obtain distributional metrics for the ChemCPA, so that we can directly compare the results to the ConditionalMongeGap model."
   ]
  },
  {
   "cell_type": "code",
   "execution_count": 1,
   "id": "2e1bc64d",
   "metadata": {},
   "outputs": [],
   "source": [
    "PATH = \"/home/thesis/\"\n",
    "# PATH = \"/dss/dsshome1/0A/di93hoq/\""
   ]
  },
  {
   "cell_type": "markdown",
   "id": "4f20e0ed",
   "metadata": {},
   "source": [
    "## 1. Dataset preparation\n",
    "By design, chemCPA aims to solve a broader problem that the ConditionalMongeGap model, since it tries to make predictions for different cell lines and drug doses. To make the comparison fair, we will only select a single cell line and the highest dose on the dataset (which is what we train the ConditionalMongeGap model on).\n"
   ]
  },
  {
   "cell_type": "code",
   "execution_count": 2,
   "id": "a87c1c68",
   "metadata": {},
   "outputs": [
    {
     "name": "stderr",
     "output_type": "stream",
     "text": [
      "/home/thesis/miniconda3/envs/compare_cpa/lib/python3.8/site-packages/tqdm/auto.py:21: TqdmWarning: IProgress not found. Please update jupyter and ipywidgets. See https://ipywidgets.readthedocs.io/en/stable/user_install.html\n",
      "  from .autonotebook import tqdm as notebook_tqdm\n"
     ]
    }
   ],
   "source": [
    "import scanpy as sc\n",
    "import jax.numpy as jnp\n",
    "import os\n",
    "from pathlib import Path\n",
    "from pprint import pprint\n",
    "from seml.config import generate_configs, read_config\n",
    "from chemCPA.experiments_run import ExperimentWrapper"
   ]
  },
  {
   "cell_type": "code",
   "execution_count": 3,
   "id": "e832ad83",
   "metadata": {},
   "outputs": [],
   "source": [
    "# Load the dataset\n",
    "adata = sc.read_h5ad(PATH + \"/ConditionalMongeGap/Datasets/sciplex_complete_middle_subset.h5ad\")"
   ]
  },
  {
   "cell_type": "code",
   "execution_count": 4,
   "id": "a509522c",
   "metadata": {},
   "outputs": [],
   "source": [
    "adata = adata[\n",
    "    (adata.obs[\"cell_type\"] == \"A549\")\n",
    "    & ((adata.obs[\"dose\"] == 10000) | (adata.obs[\"dose\"] == 0))\n",
    "]"
   ]
  },
  {
   "cell_type": "code",
   "execution_count": 6,
   "id": "2dcb945d",
   "metadata": {},
   "outputs": [],
   "source": [
    "# Save the dataset\n",
    "adata.write_h5ad(PATH + \"ConditionalMongeGap/Datasets/sciplex_complete_middle_subset_compare.h5ad\")"
   ]
  },
  {
   "cell_type": "markdown",
   "id": "5332ee4d",
   "metadata": {},
   "source": [
    "## 2. Experiment\n",
    "We load the manual configuration file and run the experiment (i.e. train the model and save it)"
   ]
  },
  {
   "cell_type": "code",
   "execution_count": 5,
   "id": "092247cc",
   "metadata": {},
   "outputs": [
    {
     "name": "stdout",
     "output_type": "stream",
     "text": [
      "{'dataset': {'data_params': {'covariate_keys': 'cell_type',\n",
      "                             'dataset_path': '/home/thesis/ConditionalMongeGap/Datasets/sciplex_complete_middle_subset_compare.h5ad',\n",
      "                             'degs_key': 'all_DEGs',\n",
      "                             'dose_key': 'dose',\n",
      "                             'pert_category': 'cov_drug_dose_name',\n",
      "                             'perturbation_key': 'condition',\n",
      "                             'smiles_key': 'SMILES',\n",
      "                             'split_key': 'split_ood_finetuning',\n",
      "                             'use_drugs_idx': True},\n",
      "             'dataset_type': 'trapnell'},\n",
      " 'model': {'additional_params': {'decoder_activation': 'ReLU',\n",
      "                                 'doser_type': 'amortized',\n",
      "                                 'multi_task': False,\n",
      "                                 'patience': 50,\n",
      "                                 'seed': 1337},\n",
      "           'append_ae_layer': True,\n",
      "           'embedding': {'directory': 'embeddings', 'model': 'rdkit'},\n",
      "           'enable_cpa_mode': True,\n",
      "           'hparams': {'adversary_depth': 3,\n",
      "                       'adversary_lr': 0.00036374585440139074,\n",
      "                       'adversary_steps': 2,\n",
      "                       'adversary_wd': 7.459343285726542e-07,\n",
      "                       'adversary_width': 128,\n",
      "                       'autoencoder_depth': 4,\n",
      "                       'autoencoder_lr': 0.0005611516415334506,\n",
      "                       'autoencoder_wd': 1.329291894316214e-07,\n",
      "                       'autoencoder_width': 256,\n",
      "                       'batch_size': 128,\n",
      "                       'dim': 194,\n",
      "                       'dosers_depth': 3,\n",
      "                       'dosers_lr': 0.0005611516415334506,\n",
      "                       'dosers_wd': 1.329291894316214e-07,\n",
      "                       'dosers_width': 64,\n",
      "                       'dropout': 0.262378,\n",
      "                       'embedding_encoder_depth': 4,\n",
      "                       'embedding_encoder_width': 128,\n",
      "                       'penalty_adversary': 0.19906996673933372,\n",
      "                       'reg_adversary': 3.9813993347866736,\n",
      "                       'reg_adversary_cov': 11.844319751820388,\n",
      "                       'reg_multi_task': 0,\n",
      "                       'step_size_lr': 50},\n",
      "           'load_pretrained': False,\n",
      "           'pretrained_model_hashes': None,\n",
      "           'pretrained_model_path': 'checkpoints'},\n",
      " 'profiling': {'outdir': './', 'run_profiler': False},\n",
      " 'training': {'checkpoint_freq': 50,\n",
      "              'full_eval_during_train': False,\n",
      "              'max_minutes': 5,\n",
      "              'num_epochs': 500,\n",
      "              'run_eval_disentangle': True,\n",
      "              'run_eval_logfold': False,\n",
      "              'run_eval_r2': True,\n",
      "              'run_eval_r2_sc': False,\n",
      "              'save_checkpoints': True,\n",
      "              'save_dir': 'compare/checkpoints'}}\n"
     ]
    }
   ],
   "source": [
    "exp = ExperimentWrapper(init_all=False)\n",
    "# this is how seml loads the config file internally\n",
    "assert Path(\n",
    "    PATH + \"forkCPA/manual_run.yaml\"\n",
    ").exists(), \"config file not found\"\n",
    "seml_config, slurm_config, experiment_config = read_config(\n",
    "   PATH + \"forkCPA/manual_run.yaml\"\n",
    ")\n",
    "# we take the first config generated\n",
    "configs = generate_configs(experiment_config)\n",
    "if len(configs) > 1:\n",
    "    print(\"Careful, more than one config generated from the yaml file\")\n",
    "args = configs[0]\n",
    "pprint(args)\n",
    "\n",
    "exp.seed = 1337\n",
    "# loads the dataset splits\n",
    "exp.init_dataset(**args[\"dataset\"])"
   ]
  },
  {
   "cell_type": "code",
   "execution_count": 6,
   "id": "dda03847",
   "metadata": {},
   "outputs": [],
   "source": [
    "exp.init_drug_embedding(embedding=args[\"model\"][\"embedding\"])\n",
    "exp.init_model(\n",
    "    hparams=args[\"model\"][\"hparams\"],\n",
    "    additional_params=args[\"model\"][\"additional_params\"],\n",
    "    load_pretrained=args[\"model\"][\"load_pretrained\"],\n",
    "    append_ae_layer=args[\"model\"][\"append_ae_layer\"],\n",
    "    enable_cpa_mode=args[\"model\"][\"enable_cpa_mode\"],\n",
    "    pretrained_model_path=args[\"model\"][\"pretrained_model_path\"],\n",
    "    pretrained_model_hashes=args[\"model\"][\"pretrained_model_hashes\"],\n",
    ")"
   ]
  },
  {
   "cell_type": "code",
   "execution_count": 7,
   "id": "5541f394",
   "metadata": {
    "scrolled": true
   },
   "outputs": [],
   "source": [
    "# setup the torch DataLoader\n",
    "exp.update_datasets()"
   ]
  },
  {
   "cell_type": "code",
   "execution_count": 11,
   "id": "5fa47c6c",
   "metadata": {},
   "outputs": [
    {
     "name": "stdout",
     "output_type": "stream",
     "text": [
      "CWD: /home/thesis/forkCPA\n",
      "Save dir: compare/checkpoints\n"
     ]
    },
    {
     "name": "stderr",
     "output_type": "stream",
     "text": [
      "\n",
      "KeyboardInterrupt\n",
      "\n"
     ]
    }
   ],
   "source": [
    "train_results = exp.train(**args[\"training\"])"
   ]
  },
  {
   "cell_type": "code",
   "execution_count": null,
   "id": "b3bb25d0",
   "metadata": {},
   "outputs": [
    {
     "data": {
      "text/plain": [
       "['model_4.pt']"
      ]
     },
     "execution_count": 15,
     "metadata": {},
     "output_type": "execute_result"
    }
   ],
   "source": [
    "os.listdir(PATH + \"forkCPA/compare/checkpoints\")"
   ]
  },
  {
   "cell_type": "markdown",
   "id": "14a10a4c",
   "metadata": {},
   "source": [
    "## 3. Prediction\n",
    "We load the trained model and make predictions on the test and out of distribution (ood) datasets. The prediction of the chemCPA model is a vector of means and standard deviations for each point in the source/control. We will use the mean as the prediction (and use it to compute the distributional metrics). "
   ]
  },
  {
   "cell_type": "code",
   "execution_count": 29,
   "id": "05d40f4b",
   "metadata": {},
   "outputs": [],
   "source": [
    "from notebooks.utils import compute_pred\n",
    "from chemCPA.model import ComPert\n",
    "import csv\n",
    "import torch\n",
    "import numpy as np"
   ]
  },
  {
   "cell_type": "code",
   "execution_count": 20,
   "id": "3318f187",
   "metadata": {},
   "outputs": [],
   "source": [
    "os.chdir(PATH + \"ConditionalMongeGap/\")\n",
    "from losses import sinkhorn_div\n",
    "from utils import calculate_metrics"
   ]
  },
  {
   "cell_type": "code",
   "execution_count": 9,
   "id": "50c8bd68",
   "metadata": {},
   "outputs": [],
   "source": [
    "model_hash = \"model_4\"  # Fine-tuned"
   ]
  },
  {
   "cell_type": "code",
   "execution_count": 10,
   "id": "81d2db1f",
   "metadata": {
    "scrolled": true
   },
   "outputs": [],
   "source": [
    "model = torch.load(PATH + f\"forkCPA/compare/checkpoints/{model_hash}.pt\")"
   ]
  },
  {
   "cell_type": "code",
   "execution_count": 11,
   "id": "1118682b",
   "metadata": {
    "scrolled": true
   },
   "outputs": [],
   "source": [
    "(\n",
    "    state_dict,\n",
    "    cov_adv_state_dicts,\n",
    "    cov_emb_state_dicts,\n",
    "    init_args,\n",
    "    history,\n",
    "\n",
    ") = model"
   ]
  },
  {
   "cell_type": "code",
   "execution_count": 12,
   "id": "16fbdc0c",
   "metadata": {
    "scrolled": true
   },
   "outputs": [],
   "source": [
    "model = ComPert(\n",
    "        **init_args, drug_embeddings=exp.drug_embeddings\n",
    ")\n",
    "model = model.eval()"
   ]
  },
  {
   "cell_type": "code",
   "execution_count": 13,
   "id": "4c3cc039",
   "metadata": {
    "scrolled": true
   },
   "outputs": [
    {
     "name": "stdout",
     "output_type": "stream",
     "text": [
      "['A549', 'K562', 'MCF7']\n"
     ]
    },
    {
     "name": "stderr",
     "output_type": "stream",
     "text": [
      "5it [00:05,  1.23it/s]"
     ]
    },
    {
     "name": "stdout",
     "output_type": "stream",
     "text": [
      "A549_CUDC-101_1.0: -0.77\n",
      "A549_CUDC-907_1.0: -0.36\n",
      "A549_Dacinostat_1.0: -0.58\n",
      "A549_Givinostat_1.0: -1.34\n",
      "A549_Hesperadin_1.0: -0.40\n",
      "A549_Pirarubicin_1.0: -0.46\n"
     ]
    },
    {
     "name": "stderr",
     "output_type": "stream",
     "text": [
      "9it [00:05,  1.61it/s]"
     ]
    },
    {
     "name": "stdout",
     "output_type": "stream",
     "text": [
      "A549_Raltitrexed_1.0: -1.69\n",
      "A549_Tanespimycin_1.0: -1.08\n",
      "A549_Trametinib_1.0: -0.53\n"
     ]
    },
    {
     "name": "stderr",
     "output_type": "stream",
     "text": [
      "\n"
     ]
    }
   ],
   "source": [
    "drug_r2_pretrained_degs_rdkit, _ = compute_pred(\n",
    "    model,\n",
    "    exp.datasets[\"ood\"]\n",
    ")"
   ]
  },
  {
   "cell_type": "code",
   "execution_count": 14,
   "id": "10cbf954",
   "metadata": {},
   "outputs": [],
   "source": [
    "prediction, embeddings = model.predict(\n",
    "    genes=exp.datasets[\"ood\"].genes,\n",
    "    drugs_idx=exp.datasets[\"ood\"].drugs_idx,\n",
    "    dosages=exp.datasets[\"ood\"].dosages,\n",
    "    covariates=exp.datasets[\"ood\"].covariates\n",
    ")"
   ]
  },
  {
   "cell_type": "code",
   "execution_count": 21,
   "id": "add1a8f3",
   "metadata": {},
   "outputs": [
    {
     "name": "stderr",
     "output_type": "stream",
     "text": [
      "WARNING:jax._src.xla_bridge:No GPU/TPU found, falling back to CPU. (Set TF_CPP_MIN_LOG_LEVEL=0 and rerun for more info.)\n"
     ]
    },
    {
     "name": "stdout",
     "output_type": "stream",
     "text": [
      "Sinkhorn divergence target and prediction for CUDC-101: 91.75827026367188\n",
      "Sinkhorn divergence target and prediction for CUDC-907: 92.26095581054688\n",
      "Sinkhorn divergence target and prediction for Dacinostat: 94.89117431640625\n",
      "Sinkhorn divergence target and prediction for Givinostat: 92.05887603759766\n",
      "Sinkhorn divergence target and prediction for Hesperadin: 83.93119049072266\n",
      "Sinkhorn divergence target and prediction for Pirarubicin: 101.37113189697266\n",
      "Sinkhorn divergence target and prediction for Raltitrexed: 93.80936431884766\n",
      "Sinkhorn divergence target and prediction for Tanespimycin: 105.04225158691406\n",
      "Sinkhorn divergence target and prediction for Trametinib: 106.17483520507812\n"
     ]
    }
   ],
   "source": [
    "for name in np.unique(exp.datasets[\"ood\"].drugs_names):\n",
    "    section = (exp.datasets[\"ood\"].drugs_names == name)\n",
    "    value = sinkhorn_div(\n",
    "        jnp.asarray(prediction.detach().numpy()[section, 0:2000]),\n",
    "        jnp.asarray(exp.datasets[\"ood\"].genes[section]),\n",
    "    )\n",
    "    print(f\"Sinkhorn divergence target and prediction for {name:12s}: {value:12.5f}\")"
   ]
  },
  {
   "cell_type": "code",
   "execution_count": 33,
   "id": "a9d1f31f",
   "metadata": {},
   "outputs": [
    {
     "name": "stdout",
     "output_type": "stream",
     "text": [
      "\n",
      "Condition           Typr           r2                  mae                 SINK(S,T)           SINK(T,P)                  MMD(S,T)            MMD(T,P)            FID(S,T)         FID(S,P)              E(S,T)              E(T,P)\n",
      "CUDC-101            ood                     -0.112               0.058             132.398             103.970              11.608              11.608             104.763              88.078               0.975               8.963\n"
     ]
    }
   ],
   "source": [
    "with open(PATH+ \"forkCPA/compare/results.csv\", 'w') as f:\n",
    "    w = csv.DictWriter(f, [\"name\", \"type\", \"r2\", \"mae\", \"sinkhorn_source_target\", \"sinkhorn_target_pred\", \"mmd_source_target\", \"mmd_target_pred\", \"fid_source_target\", \"fid_target_pred\", \"e_source_target\", \"e_target_pred\"])\n",
    "    w.writeheader()\n",
    "    print(\n",
    "        f\"\\n{'Condition':15s}{'':5s}\" +\n",
    "        f\"{'Typr':10s}{'':5s}{'r2':15s}{'':5s}{'mae':15s}\" +\n",
    "        f\"{'':5s}{'SINK(S,T)':15s}{'':5s}{'SINK(T,P)':15s}\" +\n",
    "        f\"{'':5s}{'MMD(S,T)':>15s}{'':5s}{'MMD(T,P)':>15s}\"+\n",
    "        f\"{'':5s}{'FID(S,T)':>15s}{'':5s}{'FID(S,P)':>12s}\" +\n",
    "        f\"{'':5s}{'E(S,T)':>15s}{'':5s}{'E(T,P)':>15s}\"\n",
    "    )\n",
    "    \n",
    "    for name in np.unique(exp.datasets[\"ood\"].drugs_names):\n",
    "        section = (exp.datasets[\"ood\"].drugs_names == name)\n",
    "        results = calculate_metrics(\n",
    "            name=name,\n",
    "            type=\"ood\",\n",
    "            source=jnp.asarray(exp.datasets[\"training_control\"].genes[0:len(section)]),\n",
    "            target=jnp.asarray(exp.datasets[\"ood\"].genes[section]),\n",
    "            predicted=jnp.asarray(prediction.detach().numpy()[section, 0:2000]),\n",
    "            epsilon=0.1,\n",
    "            epsilon_mmd=100\n",
    "        )\n",
    "        \n",
    "\n",
    "        print(\n",
    "            (\"{:15s}{:5s}{:10s}{:5s}\" + \"{:>15.3f}{:5s}\" * 9 +\"{:15.3f}\").format(\n",
    "                name,\n",
    "                '',\n",
    "                'ood',\n",
    "                '',\n",
    "                results['r2'],\n",
    "                '',\n",
    "                results[\"mae\"],\n",
    "                '',\n",
    "                results['sinkhorn_source_target'],\n",
    "                '',\n",
    "                results['sinkhorn_target_pred'],\n",
    "                '' ,\n",
    "                results['mmd_source_target'],\n",
    "                '',\n",
    "                results['mmd_source_target'],\n",
    "                '',\n",
    "                results['fid_target_pred'],\n",
    "                '',\n",
    "                results['fid_source_target'],\n",
    "                '',\n",
    "                results['e_source_target'],\n",
    "                '',\n",
    "                results['e_target_pred']\n",
    "            )\n",
    "    )\n",
    "        \n",
    "    w.writerow(results)"
   ]
  }
 ],
 "metadata": {
  "kernelspec": {
   "display_name": "Python 3 (ipykernel)",
   "language": "python",
   "name": "python3"
  },
  "language_info": {
   "codemirror_mode": {
    "name": "ipython",
    "version": 3
   },
   "file_extension": ".py",
   "mimetype": "text/x-python",
   "name": "python",
   "nbconvert_exporter": "python",
   "pygments_lexer": "ipython3",
   "version": "3.8.18"
  }
 },
 "nbformat": 4,
 "nbformat_minor": 5
}
