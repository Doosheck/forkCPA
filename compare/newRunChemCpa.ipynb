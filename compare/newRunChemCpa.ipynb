{
 "cells": [
  {
   "cell_type": "markdown",
   "id": "af27b0dc",
   "metadata": {},
   "source": [
    "# Obtaining distributional metrics for the ChemCPA\n",
    "**Goal**: To obtain distributional metrics for the ChemCPA, so that we can directly compare the results to the ConditionalMongeGap model."
   ]
  },
  {
   "cell_type": "code",
   "execution_count": 1,
   "id": "d063109b",
   "metadata": {},
   "outputs": [],
   "source": [
    "%load_ext autoreload\n",
    "%autoreload 2"
   ]
  },
  {
   "cell_type": "code",
   "execution_count": 2,
   "id": "a6b31437",
   "metadata": {},
   "outputs": [],
   "source": [
    "import os\n",
    "from pathlib import Path\n",
    "\n",
    "PATH = str(Path(os.getcwd()).parent)"
   ]
  },
  {
   "cell_type": "markdown",
   "id": "602d530c",
   "metadata": {},
   "source": [
    "## 1. Dataset preparation\n",
    "By design, chemCPA aims to solve a broader problem that the ConditionalMongeGap model, since it tries to make predictions for different cell lines and drug doses. To make the comparison fair, we will only select a single cell line and the highest dose on the dataset (which is what we train the ConditionalMongeGap model on).\n"
   ]
  },
  {
   "cell_type": "code",
   "execution_count": 4,
   "id": "ba69b390",
   "metadata": {},
   "outputs": [],
   "source": [
    "import scanpy as sc\n",
    "# import jax.numpy as jnp\n",
    "import sys\n",
    "from pathlib import Path\n",
    "from pprint import pprint\n",
    "from seml.config import generate_configs, read_config\n",
    "import torch"
   ]
  },
  {
   "cell_type": "code",
   "execution_count": 5,
   "id": "78373504",
   "metadata": {},
   "outputs": [],
   "source": [
    "sys.path.append(PATH)"
   ]
  },
  {
   "cell_type": "code",
   "execution_count": 6,
   "id": "a5002a22",
   "metadata": {},
   "outputs": [],
   "source": [
    "from chemCPA.experiments_run import ExperimentWrapper\n",
    "from chemCPA.model import ComPert\n",
    "from chemCPA.train import compute_prediction\n",
    "from notebooks.utils import repeat_n\n",
    "from notebooks import utils"
   ]
  },
  {
   "cell_type": "code",
   "execution_count": 7,
   "id": "aed1aca4",
   "metadata": {},
   "outputs": [],
   "source": [
    "model = torch.load(\n",
    "    '/home/icb/gori.camps/forkCPA/28c172ee2884c3204fa0df4b7223ff93.pt',\n",
    "    map_location=torch.device('cpu')\n",
    ")"
   ]
  },
  {
   "cell_type": "code",
   "execution_count": 8,
   "id": "4bb49b3d",
   "metadata": {},
   "outputs": [],
   "source": [
    "(\n",
    "    state_dict,\n",
    "    cov_adv_state_dicts,\n",
    "    cov_emb_state_dicts,\n",
    "    init_args,\n",
    "    history,\n",
    "\n",
    ") = model"
   ]
  },
  {
   "cell_type": "code",
   "execution_count": 9,
   "id": "9f230c13",
   "metadata": {},
   "outputs": [],
   "source": [
    "model = ComPert(\n",
    "        **init_args,\n",
    ")"
   ]
  },
  {
   "cell_type": "code",
   "execution_count": 10,
   "id": "cc3b7a34",
   "metadata": {},
   "outputs": [],
   "source": [
    "adata = sc.read_h5ad(\n",
    "    '/home/icb/gori.camps/ConditionalOT_Perturbations/Datasets/sciplex_complete_middle_subset.h5ad'\n",
    ")"
   ]
  },
  {
   "cell_type": "code",
   "execution_count": 48,
   "id": "2aa10b5a",
   "metadata": {
    "scrolled": true
   },
   "outputs": [],
   "source": [
    "genes = torch.Tensor(\n",
    "    adata[\n",
    "        (adata.obs['cell_type'] == 'A549') &\n",
    "        (adata.obs['condition'] == 'control')\n",
    "    ].X.A\n",
    "    )\n",
    "\n",
    "cell_lines = [\n",
    "    repeat_n(\n",
    "        torch.Tensor([1,0,0]),\n",
    "        genes.shape[0]\n",
    "    )\n",
    "]\n",
    "\n",
    "drugs = (\n",
    "    repeat_n(torch.Tensor([63]), genes.shape[0]).squeeze().to(torch.long),\n",
    "    repeat_n(torch.Tensor([10000]), genes.shape[0]).squeeze().to(torch.long)\n",
    ")\n",
    "\n",
    "means, stds = compute_prediction(\n",
    "    model,\n",
    "    genes=genes,\n",
    "    emb_covs=cell_lines,\n",
    "    emb_drugs=drugs,\n",
    ")"
   ]
  }
 ],
 "metadata": {
  "kernelspec": {
   "display_name": "chemical_CPA",
   "language": "python",
   "name": "python3"
  },
  "language_info": {
   "codemirror_mode": {
    "name": "ipython",
    "version": 3
   },
   "file_extension": ".py",
   "mimetype": "text/x-python",
   "name": "python",
   "nbconvert_exporter": "python",
   "pygments_lexer": "ipython3",
   "version": "3.7.12"
  }
 },
 "nbformat": 4,
 "nbformat_minor": 5
}
