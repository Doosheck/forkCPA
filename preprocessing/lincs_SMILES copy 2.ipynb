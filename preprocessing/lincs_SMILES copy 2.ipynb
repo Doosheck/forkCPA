{
 "cells": [
  {
   "cell_type": "markdown",
   "id": "c45d57e2-bbfc-4b75-ab78-a933dc12464b",
   "metadata": {},
   "source": [
    "**Requires**\n",
    "\n",
    "**Output**\n",
    "\n",
    "## Imports"
   ]
  },
  {
   "cell_type": "code",
   "execution_count": 1,
   "id": "9ec76d6e",
   "metadata": {},
   "outputs": [],
   "source": [
    "import scanpy as sc\n",
    "import matplotlib.pyplot as plt\n",
    "import numpy as np \n",
    "import pandas as pd\n",
    "import os\n",
    "\n",
    "from chemCPA.paths import DATA_DIR, PROJECT_DIR, ROOT\n",
    "\n",
    "# sc.set_figure_params(dpi=80, frameon=False)\n",
    "# sc.logging.print_header()"
   ]
  },
  {
   "cell_type": "code",
   "execution_count": 2,
   "id": "ed549136",
   "metadata": {},
   "outputs": [],
   "source": [
    "%load_ext autoreload\n",
    "%autoreload 2"
   ]
  },
  {
   "cell_type": "markdown",
   "id": "cffabb10",
   "metadata": {},
   "source": [
    "### Loading LINCS and reference data"
   ]
  },
  {
   "cell_type": "code",
   "execution_count": 3,
   "id": "4c671a5e",
   "metadata": {},
   "outputs": [],
   "source": [
    "\n",
    "# print(PROJECT_DIR)\n",
    "# # print the directory of home from the root directory\n",
    "# # Root directory: /home/ubuntu/miniconda3/envs/chemical_CPA/lib/python3.7/site-packages\n",
    "# file_path = os.path.abspath('lincs_full.h5ad')\n",
    "# print(f\"Absolute path of lincs_full_pp.h5ad: {file_path}\")\n",
    "# !ls -l $DATA_DIR   \n"
   ]
  },
  {
   "cell_type": "code",
   "execution_count": 3,
   "id": "62696a78",
   "metadata": {},
   "outputs": [
    {
     "name": "stdout",
     "output_type": "stream",
     "text": [
      "Input: /Users/Doosheck/Documents/Master/forkCPA/datasets/datasets/lincs_pp.h5ad\n"
     ]
    },
    {
     "data": {
      "text/html": [
       "<div>\n",
       "<style scoped>\n",
       "    .dataframe tbody tr th:only-of-type {\n",
       "        vertical-align: middle;\n",
       "    }\n",
       "\n",
       "    .dataframe tbody tr th {\n",
       "        vertical-align: top;\n",
       "    }\n",
       "\n",
       "    .dataframe thead th {\n",
       "        text-align: right;\n",
       "    }\n",
       "</style>\n",
       "<table border=\"1\" class=\"dataframe\">\n",
       "  <thead>\n",
       "    <tr style=\"text-align: right;\">\n",
       "      <th></th>\n",
       "      <th>cell_id</th>\n",
       "      <th>det_plate</th>\n",
       "      <th>det_well</th>\n",
       "      <th>lincs_phase</th>\n",
       "      <th>pert_dose</th>\n",
       "      <th>pert_dose_unit</th>\n",
       "      <th>pert_id</th>\n",
       "      <th>pert_iname</th>\n",
       "      <th>pert_mfc_id</th>\n",
       "      <th>pert_time</th>\n",
       "      <th>...</th>\n",
       "      <th>rna_well</th>\n",
       "      <th>batch</th>\n",
       "      <th>condition</th>\n",
       "      <th>cell_type</th>\n",
       "      <th>dose_val</th>\n",
       "      <th>cov_drug_dose_name</th>\n",
       "      <th>control</th>\n",
       "      <th>split</th>\n",
       "      <th>cov_drug_name</th>\n",
       "      <th>eval_category</th>\n",
       "    </tr>\n",
       "  </thead>\n",
       "  <tbody>\n",
       "    <tr>\n",
       "      <th>REP.A001_A375_24H_X1_B22:B13-2-0</th>\n",
       "      <td>A375</td>\n",
       "      <td>REP.A001_A375_24H_X1_B22</td>\n",
       "      <td>B13</td>\n",
       "      <td>2</td>\n",
       "      <td>10.000000</td>\n",
       "      <td>um</td>\n",
       "      <td>BRD-A25234499</td>\n",
       "      <td>aminoglutethimide</td>\n",
       "      <td>BRD-A25234499-001-18-3</td>\n",
       "      <td>24.0</td>\n",
       "      <td>...</td>\n",
       "      <td>nan</td>\n",
       "      <td>0</td>\n",
       "      <td>aminoglutethimide</td>\n",
       "      <td>A375</td>\n",
       "      <td>10.000000</td>\n",
       "      <td>A375_aminoglutethimide_10.0</td>\n",
       "      <td>0</td>\n",
       "      <td>train</td>\n",
       "      <td>A375_aminoglutethimide</td>\n",
       "      <td>A375_aminoglutethimide</td>\n",
       "    </tr>\n",
       "    <tr>\n",
       "      <th>REP.A001_A375_24H_X1_B22:B14-2-0</th>\n",
       "      <td>A375</td>\n",
       "      <td>REP.A001_A375_24H_X1_B22</td>\n",
       "      <td>B14</td>\n",
       "      <td>2</td>\n",
       "      <td>3.333330</td>\n",
       "      <td>um</td>\n",
       "      <td>BRD-A25234499</td>\n",
       "      <td>aminoglutethimide</td>\n",
       "      <td>BRD-A25234499-001-18-3</td>\n",
       "      <td>24.0</td>\n",
       "      <td>...</td>\n",
       "      <td>nan</td>\n",
       "      <td>0</td>\n",
       "      <td>aminoglutethimide</td>\n",
       "      <td>A375</td>\n",
       "      <td>3.333330</td>\n",
       "      <td>A375_aminoglutethimide_3.33333</td>\n",
       "      <td>0</td>\n",
       "      <td>train</td>\n",
       "      <td>A375_aminoglutethimide</td>\n",
       "      <td>A375_aminoglutethimide</td>\n",
       "    </tr>\n",
       "    <tr>\n",
       "      <th>REP.A001_A375_24H_X1_B22:B15-2-0</th>\n",
       "      <td>A375</td>\n",
       "      <td>REP.A001_A375_24H_X1_B22</td>\n",
       "      <td>B15</td>\n",
       "      <td>2</td>\n",
       "      <td>1.111110</td>\n",
       "      <td>um</td>\n",
       "      <td>BRD-A25234499</td>\n",
       "      <td>aminoglutethimide</td>\n",
       "      <td>BRD-A25234499-001-18-3</td>\n",
       "      <td>24.0</td>\n",
       "      <td>...</td>\n",
       "      <td>nan</td>\n",
       "      <td>0</td>\n",
       "      <td>aminoglutethimide</td>\n",
       "      <td>A375</td>\n",
       "      <td>1.111110</td>\n",
       "      <td>A375_aminoglutethimide_1.11111</td>\n",
       "      <td>0</td>\n",
       "      <td>train</td>\n",
       "      <td>A375_aminoglutethimide</td>\n",
       "      <td>A375_aminoglutethimide</td>\n",
       "    </tr>\n",
       "    <tr>\n",
       "      <th>REP.A001_A375_24H_X1_B22:B16-2-0</th>\n",
       "      <td>A375</td>\n",
       "      <td>REP.A001_A375_24H_X1_B22</td>\n",
       "      <td>B16</td>\n",
       "      <td>2</td>\n",
       "      <td>0.370370</td>\n",
       "      <td>um</td>\n",
       "      <td>BRD-A25234499</td>\n",
       "      <td>aminoglutethimide</td>\n",
       "      <td>BRD-A25234499-001-18-3</td>\n",
       "      <td>24.0</td>\n",
       "      <td>...</td>\n",
       "      <td>nan</td>\n",
       "      <td>0</td>\n",
       "      <td>aminoglutethimide</td>\n",
       "      <td>A375</td>\n",
       "      <td>0.370370</td>\n",
       "      <td>A375_aminoglutethimide_0.37037</td>\n",
       "      <td>0</td>\n",
       "      <td>train</td>\n",
       "      <td>A375_aminoglutethimide</td>\n",
       "      <td>A375_aminoglutethimide</td>\n",
       "    </tr>\n",
       "    <tr>\n",
       "      <th>REP.A001_A375_24H_X1_B22:B17-2-0</th>\n",
       "      <td>A375</td>\n",
       "      <td>REP.A001_A375_24H_X1_B22</td>\n",
       "      <td>B17</td>\n",
       "      <td>2</td>\n",
       "      <td>0.123457</td>\n",
       "      <td>um</td>\n",
       "      <td>BRD-A25234499</td>\n",
       "      <td>aminoglutethimide</td>\n",
       "      <td>BRD-A25234499-001-18-3</td>\n",
       "      <td>24.0</td>\n",
       "      <td>...</td>\n",
       "      <td>nan</td>\n",
       "      <td>0</td>\n",
       "      <td>aminoglutethimide</td>\n",
       "      <td>A375</td>\n",
       "      <td>0.123457</td>\n",
       "      <td>A375_aminoglutethimide_0.123457</td>\n",
       "      <td>0</td>\n",
       "      <td>train</td>\n",
       "      <td>A375_aminoglutethimide</td>\n",
       "      <td>A375_aminoglutethimide</td>\n",
       "    </tr>\n",
       "  </tbody>\n",
       "</table>\n",
       "<p>5 rows × 23 columns</p>\n",
       "</div>"
      ],
      "text/plain": [
       "                                 cell_id                 det_plate det_well  \\\n",
       "REP.A001_A375_24H_X1_B22:B13-2-0    A375  REP.A001_A375_24H_X1_B22      B13   \n",
       "REP.A001_A375_24H_X1_B22:B14-2-0    A375  REP.A001_A375_24H_X1_B22      B14   \n",
       "REP.A001_A375_24H_X1_B22:B15-2-0    A375  REP.A001_A375_24H_X1_B22      B15   \n",
       "REP.A001_A375_24H_X1_B22:B16-2-0    A375  REP.A001_A375_24H_X1_B22      B16   \n",
       "REP.A001_A375_24H_X1_B22:B17-2-0    A375  REP.A001_A375_24H_X1_B22      B17   \n",
       "\n",
       "                                 lincs_phase  pert_dose pert_dose_unit  \\\n",
       "REP.A001_A375_24H_X1_B22:B13-2-0           2  10.000000             um   \n",
       "REP.A001_A375_24H_X1_B22:B14-2-0           2   3.333330             um   \n",
       "REP.A001_A375_24H_X1_B22:B15-2-0           2   1.111110             um   \n",
       "REP.A001_A375_24H_X1_B22:B16-2-0           2   0.370370             um   \n",
       "REP.A001_A375_24H_X1_B22:B17-2-0           2   0.123457             um   \n",
       "\n",
       "                                        pert_id         pert_iname  \\\n",
       "REP.A001_A375_24H_X1_B22:B13-2-0  BRD-A25234499  aminoglutethimide   \n",
       "REP.A001_A375_24H_X1_B22:B14-2-0  BRD-A25234499  aminoglutethimide   \n",
       "REP.A001_A375_24H_X1_B22:B15-2-0  BRD-A25234499  aminoglutethimide   \n",
       "REP.A001_A375_24H_X1_B22:B16-2-0  BRD-A25234499  aminoglutethimide   \n",
       "REP.A001_A375_24H_X1_B22:B17-2-0  BRD-A25234499  aminoglutethimide   \n",
       "\n",
       "                                             pert_mfc_id  pert_time  ...  \\\n",
       "REP.A001_A375_24H_X1_B22:B13-2-0  BRD-A25234499-001-18-3       24.0  ...   \n",
       "REP.A001_A375_24H_X1_B22:B14-2-0  BRD-A25234499-001-18-3       24.0  ...   \n",
       "REP.A001_A375_24H_X1_B22:B15-2-0  BRD-A25234499-001-18-3       24.0  ...   \n",
       "REP.A001_A375_24H_X1_B22:B16-2-0  BRD-A25234499-001-18-3       24.0  ...   \n",
       "REP.A001_A375_24H_X1_B22:B17-2-0  BRD-A25234499-001-18-3       24.0  ...   \n",
       "\n",
       "                                 rna_well batch          condition cell_type  \\\n",
       "REP.A001_A375_24H_X1_B22:B13-2-0      nan     0  aminoglutethimide      A375   \n",
       "REP.A001_A375_24H_X1_B22:B14-2-0      nan     0  aminoglutethimide      A375   \n",
       "REP.A001_A375_24H_X1_B22:B15-2-0      nan     0  aminoglutethimide      A375   \n",
       "REP.A001_A375_24H_X1_B22:B16-2-0      nan     0  aminoglutethimide      A375   \n",
       "REP.A001_A375_24H_X1_B22:B17-2-0      nan     0  aminoglutethimide      A375   \n",
       "\n",
       "                                   dose_val               cov_drug_dose_name  \\\n",
       "REP.A001_A375_24H_X1_B22:B13-2-0  10.000000      A375_aminoglutethimide_10.0   \n",
       "REP.A001_A375_24H_X1_B22:B14-2-0   3.333330   A375_aminoglutethimide_3.33333   \n",
       "REP.A001_A375_24H_X1_B22:B15-2-0   1.111110   A375_aminoglutethimide_1.11111   \n",
       "REP.A001_A375_24H_X1_B22:B16-2-0   0.370370   A375_aminoglutethimide_0.37037   \n",
       "REP.A001_A375_24H_X1_B22:B17-2-0   0.123457  A375_aminoglutethimide_0.123457   \n",
       "\n",
       "                                 control  split           cov_drug_name  \\\n",
       "REP.A001_A375_24H_X1_B22:B13-2-0       0  train  A375_aminoglutethimide   \n",
       "REP.A001_A375_24H_X1_B22:B14-2-0       0  train  A375_aminoglutethimide   \n",
       "REP.A001_A375_24H_X1_B22:B15-2-0       0  train  A375_aminoglutethimide   \n",
       "REP.A001_A375_24H_X1_B22:B16-2-0       0  train  A375_aminoglutethimide   \n",
       "REP.A001_A375_24H_X1_B22:B17-2-0       0  train  A375_aminoglutethimide   \n",
       "\n",
       "                                           eval_category  \n",
       "REP.A001_A375_24H_X1_B22:B13-2-0  A375_aminoglutethimide  \n",
       "REP.A001_A375_24H_X1_B22:B14-2-0  A375_aminoglutethimide  \n",
       "REP.A001_A375_24H_X1_B22:B15-2-0  A375_aminoglutethimide  \n",
       "REP.A001_A375_24H_X1_B22:B16-2-0  A375_aminoglutethimide  \n",
       "REP.A001_A375_24H_X1_B22:B17-2-0  A375_aminoglutethimide  \n",
       "\n",
       "[5 rows x 23 columns]"
      ]
     },
     "execution_count": 3,
     "metadata": {},
     "output_type": "execute_result"
    }
   ],
   "source": [
    "import os\n",
    "from pathlib import Path\n",
    "\n",
    "full = False\n",
    "load_adata = True \n",
    "\n",
    "DATA_DIR = Path('/Users/Doosheck/Documents/Master/forkCPA/datasets/datasets')\n",
    "\n",
    "if full:\n",
    "    adata_in = DATA_DIR / 'lincs_full_pp.h5ad'\n",
    "    adata_out = DATA_DIR / 'lincs_full_smiles.h5ad'\n",
    "else:\n",
    "    adata_in = DATA_DIR / 'lincs_pp.h5ad'\n",
    "    adata_out = DATA_DIR / 'lincs_smiles.h5ad'\n",
    "\n",
    "print(f'Input: {adata_in}')\n",
    "    \n",
    "adata = sc.read(adata_in) if load_adata else None\n",
    "adata.obs.head()"
   ]
  },
  {
   "cell_type": "markdown",
   "id": "a5668114",
   "metadata": {},
   "source": [
    "Checking number of drugs for LINCS"
   ]
  },
  {
   "cell_type": "code",
   "execution_count": 4,
   "id": "32a9060f",
   "metadata": {},
   "outputs": [
    {
     "name": "stdout",
     "output_type": "stream",
     "text": [
      "# of unique perturbations: 1120\n"
     ]
    }
   ],
   "source": [
    "pert_id_unique = pd.Series(np.unique(adata.obs.pert_id))\n",
    "print(f\"# of unique perturbations: {len(pert_id_unique)}\")"
   ]
  },
  {
   "cell_type": "markdown",
   "id": "7e9d475f",
   "metadata": {},
   "source": [
    "Loading reference dataframe that contains SMILES \n",
    "restricting to `'pert_id'` and `'canonical_smiles'`"
   ]
  },
  {
   "cell_type": "code",
   "execution_count": 5,
   "id": "b21dc82f",
   "metadata": {},
   "outputs": [
    {
     "ename": "FileNotFoundError",
     "evalue": "[Errno 2] No such file or directory: '/Users/Doosheck/Documents/Master/forkCPA/datasets/datasets/GSE92742_Broad_LINCS_pert_info.txt'",
     "output_type": "error",
     "traceback": [
      "\u001b[0;31m---------------------------------------------------------------------------\u001b[0m",
      "\u001b[0;31mFileNotFoundError\u001b[0m                         Traceback (most recent call last)",
      "Cell \u001b[0;32mIn[5], line 1\u001b[0m\n\u001b[0;32m----> 1\u001b[0m reference_df \u001b[39m=\u001b[39m pd\u001b[39m.\u001b[39;49mread_csv(DATA_DIR \u001b[39m/\u001b[39;49m\u001b[39m'\u001b[39;49m\u001b[39mGSE92742_Broad_LINCS_pert_info.txt\u001b[39;49m\u001b[39m'\u001b[39;49m, delimiter \u001b[39m=\u001b[39;49m \u001b[39m\"\u001b[39;49m\u001b[39m\\t\u001b[39;49;00m\u001b[39m\"\u001b[39;49m)\n\u001b[1;32m      2\u001b[0m reference_df \u001b[39m=\u001b[39m reference_df\u001b[39m.\u001b[39mloc[reference_df\u001b[39m.\u001b[39mpert_id\u001b[39m.\u001b[39misin(pert_id_unique), [\u001b[39m'\u001b[39m\u001b[39mpert_id\u001b[39m\u001b[39m'\u001b[39m, \u001b[39m'\u001b[39m\u001b[39mcanonical_smiles\u001b[39m\u001b[39m'\u001b[39m]]\n\u001b[1;32m      3\u001b[0m reference_df\u001b[39m.\u001b[39mcanonical_smiles\u001b[39m.\u001b[39mvalue_counts()\n",
      "File \u001b[0;32m~/miniconda3/envs/analysis/lib/python3.8/site-packages/pandas/util/_decorators.py:211\u001b[0m, in \u001b[0;36mdeprecate_kwarg.<locals>._deprecate_kwarg.<locals>.wrapper\u001b[0;34m(*args, **kwargs)\u001b[0m\n\u001b[1;32m    209\u001b[0m     \u001b[39melse\u001b[39;00m:\n\u001b[1;32m    210\u001b[0m         kwargs[new_arg_name] \u001b[39m=\u001b[39m new_arg_value\n\u001b[0;32m--> 211\u001b[0m \u001b[39mreturn\u001b[39;00m func(\u001b[39m*\u001b[39;49margs, \u001b[39m*\u001b[39;49m\u001b[39m*\u001b[39;49mkwargs)\n",
      "File \u001b[0;32m~/miniconda3/envs/analysis/lib/python3.8/site-packages/pandas/util/_decorators.py:331\u001b[0m, in \u001b[0;36mdeprecate_nonkeyword_arguments.<locals>.decorate.<locals>.wrapper\u001b[0;34m(*args, **kwargs)\u001b[0m\n\u001b[1;32m    325\u001b[0m \u001b[39mif\u001b[39;00m \u001b[39mlen\u001b[39m(args) \u001b[39m>\u001b[39m num_allow_args:\n\u001b[1;32m    326\u001b[0m     warnings\u001b[39m.\u001b[39mwarn(\n\u001b[1;32m    327\u001b[0m         msg\u001b[39m.\u001b[39mformat(arguments\u001b[39m=\u001b[39m_format_argument_list(allow_args)),\n\u001b[1;32m    328\u001b[0m         \u001b[39mFutureWarning\u001b[39;00m,\n\u001b[1;32m    329\u001b[0m         stacklevel\u001b[39m=\u001b[39mfind_stack_level(),\n\u001b[1;32m    330\u001b[0m     )\n\u001b[0;32m--> 331\u001b[0m \u001b[39mreturn\u001b[39;00m func(\u001b[39m*\u001b[39;49margs, \u001b[39m*\u001b[39;49m\u001b[39m*\u001b[39;49mkwargs)\n",
      "File \u001b[0;32m~/miniconda3/envs/analysis/lib/python3.8/site-packages/pandas/io/parsers/readers.py:950\u001b[0m, in \u001b[0;36mread_csv\u001b[0;34m(filepath_or_buffer, sep, delimiter, header, names, index_col, usecols, squeeze, prefix, mangle_dupe_cols, dtype, engine, converters, true_values, false_values, skipinitialspace, skiprows, skipfooter, nrows, na_values, keep_default_na, na_filter, verbose, skip_blank_lines, parse_dates, infer_datetime_format, keep_date_col, date_parser, dayfirst, cache_dates, iterator, chunksize, compression, thousands, decimal, lineterminator, quotechar, quoting, doublequote, escapechar, comment, encoding, encoding_errors, dialect, error_bad_lines, warn_bad_lines, on_bad_lines, delim_whitespace, low_memory, memory_map, float_precision, storage_options)\u001b[0m\n\u001b[1;32m    935\u001b[0m kwds_defaults \u001b[39m=\u001b[39m _refine_defaults_read(\n\u001b[1;32m    936\u001b[0m     dialect,\n\u001b[1;32m    937\u001b[0m     delimiter,\n\u001b[0;32m   (...)\u001b[0m\n\u001b[1;32m    946\u001b[0m     defaults\u001b[39m=\u001b[39m{\u001b[39m\"\u001b[39m\u001b[39mdelimiter\u001b[39m\u001b[39m\"\u001b[39m: \u001b[39m\"\u001b[39m\u001b[39m,\u001b[39m\u001b[39m\"\u001b[39m},\n\u001b[1;32m    947\u001b[0m )\n\u001b[1;32m    948\u001b[0m kwds\u001b[39m.\u001b[39mupdate(kwds_defaults)\n\u001b[0;32m--> 950\u001b[0m \u001b[39mreturn\u001b[39;00m _read(filepath_or_buffer, kwds)\n",
      "File \u001b[0;32m~/miniconda3/envs/analysis/lib/python3.8/site-packages/pandas/io/parsers/readers.py:605\u001b[0m, in \u001b[0;36m_read\u001b[0;34m(filepath_or_buffer, kwds)\u001b[0m\n\u001b[1;32m    602\u001b[0m _validate_names(kwds\u001b[39m.\u001b[39mget(\u001b[39m\"\u001b[39m\u001b[39mnames\u001b[39m\u001b[39m\"\u001b[39m, \u001b[39mNone\u001b[39;00m))\n\u001b[1;32m    604\u001b[0m \u001b[39m# Create the parser.\u001b[39;00m\n\u001b[0;32m--> 605\u001b[0m parser \u001b[39m=\u001b[39m TextFileReader(filepath_or_buffer, \u001b[39m*\u001b[39;49m\u001b[39m*\u001b[39;49mkwds)\n\u001b[1;32m    607\u001b[0m \u001b[39mif\u001b[39;00m chunksize \u001b[39mor\u001b[39;00m iterator:\n\u001b[1;32m    608\u001b[0m     \u001b[39mreturn\u001b[39;00m parser\n",
      "File \u001b[0;32m~/miniconda3/envs/analysis/lib/python3.8/site-packages/pandas/io/parsers/readers.py:1442\u001b[0m, in \u001b[0;36mTextFileReader.__init__\u001b[0;34m(self, f, engine, **kwds)\u001b[0m\n\u001b[1;32m   1439\u001b[0m     \u001b[39mself\u001b[39m\u001b[39m.\u001b[39moptions[\u001b[39m\"\u001b[39m\u001b[39mhas_index_names\u001b[39m\u001b[39m\"\u001b[39m] \u001b[39m=\u001b[39m kwds[\u001b[39m\"\u001b[39m\u001b[39mhas_index_names\u001b[39m\u001b[39m\"\u001b[39m]\n\u001b[1;32m   1441\u001b[0m \u001b[39mself\u001b[39m\u001b[39m.\u001b[39mhandles: IOHandles \u001b[39m|\u001b[39m \u001b[39mNone\u001b[39;00m \u001b[39m=\u001b[39m \u001b[39mNone\u001b[39;00m\n\u001b[0;32m-> 1442\u001b[0m \u001b[39mself\u001b[39m\u001b[39m.\u001b[39m_engine \u001b[39m=\u001b[39m \u001b[39mself\u001b[39;49m\u001b[39m.\u001b[39;49m_make_engine(f, \u001b[39mself\u001b[39;49m\u001b[39m.\u001b[39;49mengine)\n",
      "File \u001b[0;32m~/miniconda3/envs/analysis/lib/python3.8/site-packages/pandas/io/parsers/readers.py:1735\u001b[0m, in \u001b[0;36mTextFileReader._make_engine\u001b[0;34m(self, f, engine)\u001b[0m\n\u001b[1;32m   1733\u001b[0m     \u001b[39mif\u001b[39;00m \u001b[39m\"\u001b[39m\u001b[39mb\u001b[39m\u001b[39m\"\u001b[39m \u001b[39mnot\u001b[39;00m \u001b[39min\u001b[39;00m mode:\n\u001b[1;32m   1734\u001b[0m         mode \u001b[39m+\u001b[39m\u001b[39m=\u001b[39m \u001b[39m\"\u001b[39m\u001b[39mb\u001b[39m\u001b[39m\"\u001b[39m\n\u001b[0;32m-> 1735\u001b[0m \u001b[39mself\u001b[39m\u001b[39m.\u001b[39mhandles \u001b[39m=\u001b[39m get_handle(\n\u001b[1;32m   1736\u001b[0m     f,\n\u001b[1;32m   1737\u001b[0m     mode,\n\u001b[1;32m   1738\u001b[0m     encoding\u001b[39m=\u001b[39;49m\u001b[39mself\u001b[39;49m\u001b[39m.\u001b[39;49moptions\u001b[39m.\u001b[39;49mget(\u001b[39m\"\u001b[39;49m\u001b[39mencoding\u001b[39;49m\u001b[39m\"\u001b[39;49m, \u001b[39mNone\u001b[39;49;00m),\n\u001b[1;32m   1739\u001b[0m     compression\u001b[39m=\u001b[39;49m\u001b[39mself\u001b[39;49m\u001b[39m.\u001b[39;49moptions\u001b[39m.\u001b[39;49mget(\u001b[39m\"\u001b[39;49m\u001b[39mcompression\u001b[39;49m\u001b[39m\"\u001b[39;49m, \u001b[39mNone\u001b[39;49;00m),\n\u001b[1;32m   1740\u001b[0m     memory_map\u001b[39m=\u001b[39;49m\u001b[39mself\u001b[39;49m\u001b[39m.\u001b[39;49moptions\u001b[39m.\u001b[39;49mget(\u001b[39m\"\u001b[39;49m\u001b[39mmemory_map\u001b[39;49m\u001b[39m\"\u001b[39;49m, \u001b[39mFalse\u001b[39;49;00m),\n\u001b[1;32m   1741\u001b[0m     is_text\u001b[39m=\u001b[39;49mis_text,\n\u001b[1;32m   1742\u001b[0m     errors\u001b[39m=\u001b[39;49m\u001b[39mself\u001b[39;49m\u001b[39m.\u001b[39;49moptions\u001b[39m.\u001b[39;49mget(\u001b[39m\"\u001b[39;49m\u001b[39mencoding_errors\u001b[39;49m\u001b[39m\"\u001b[39;49m, \u001b[39m\"\u001b[39;49m\u001b[39mstrict\u001b[39;49m\u001b[39m\"\u001b[39;49m),\n\u001b[1;32m   1743\u001b[0m     storage_options\u001b[39m=\u001b[39;49m\u001b[39mself\u001b[39;49m\u001b[39m.\u001b[39;49moptions\u001b[39m.\u001b[39;49mget(\u001b[39m\"\u001b[39;49m\u001b[39mstorage_options\u001b[39;49m\u001b[39m\"\u001b[39;49m, \u001b[39mNone\u001b[39;49;00m),\n\u001b[1;32m   1744\u001b[0m )\n\u001b[1;32m   1745\u001b[0m \u001b[39massert\u001b[39;00m \u001b[39mself\u001b[39m\u001b[39m.\u001b[39mhandles \u001b[39mis\u001b[39;00m \u001b[39mnot\u001b[39;00m \u001b[39mNone\u001b[39;00m\n\u001b[1;32m   1746\u001b[0m f \u001b[39m=\u001b[39m \u001b[39mself\u001b[39m\u001b[39m.\u001b[39mhandles\u001b[39m.\u001b[39mhandle\n",
      "File \u001b[0;32m~/miniconda3/envs/analysis/lib/python3.8/site-packages/pandas/io/common.py:856\u001b[0m, in \u001b[0;36mget_handle\u001b[0;34m(path_or_buf, mode, encoding, compression, memory_map, is_text, errors, storage_options)\u001b[0m\n\u001b[1;32m    851\u001b[0m \u001b[39melif\u001b[39;00m \u001b[39misinstance\u001b[39m(handle, \u001b[39mstr\u001b[39m):\n\u001b[1;32m    852\u001b[0m     \u001b[39m# Check whether the filename is to be opened in binary mode.\u001b[39;00m\n\u001b[1;32m    853\u001b[0m     \u001b[39m# Binary mode does not support 'encoding' and 'newline'.\u001b[39;00m\n\u001b[1;32m    854\u001b[0m     \u001b[39mif\u001b[39;00m ioargs\u001b[39m.\u001b[39mencoding \u001b[39mand\u001b[39;00m \u001b[39m\"\u001b[39m\u001b[39mb\u001b[39m\u001b[39m\"\u001b[39m \u001b[39mnot\u001b[39;00m \u001b[39min\u001b[39;00m ioargs\u001b[39m.\u001b[39mmode:\n\u001b[1;32m    855\u001b[0m         \u001b[39m# Encoding\u001b[39;00m\n\u001b[0;32m--> 856\u001b[0m         handle \u001b[39m=\u001b[39m \u001b[39mopen\u001b[39;49m(\n\u001b[1;32m    857\u001b[0m             handle,\n\u001b[1;32m    858\u001b[0m             ioargs\u001b[39m.\u001b[39;49mmode,\n\u001b[1;32m    859\u001b[0m             encoding\u001b[39m=\u001b[39;49mioargs\u001b[39m.\u001b[39;49mencoding,\n\u001b[1;32m    860\u001b[0m             errors\u001b[39m=\u001b[39;49merrors,\n\u001b[1;32m    861\u001b[0m             newline\u001b[39m=\u001b[39;49m\u001b[39m\"\u001b[39;49m\u001b[39m\"\u001b[39;49m,\n\u001b[1;32m    862\u001b[0m         )\n\u001b[1;32m    863\u001b[0m     \u001b[39melse\u001b[39;00m:\n\u001b[1;32m    864\u001b[0m         \u001b[39m# Binary mode\u001b[39;00m\n\u001b[1;32m    865\u001b[0m         handle \u001b[39m=\u001b[39m \u001b[39mopen\u001b[39m(handle, ioargs\u001b[39m.\u001b[39mmode)\n",
      "\u001b[0;31mFileNotFoundError\u001b[0m: [Errno 2] No such file or directory: '/Users/Doosheck/Documents/Master/forkCPA/datasets/datasets/GSE92742_Broad_LINCS_pert_info.txt'"
     ]
    }
   ],
   "source": [
    "reference_df = pd.read_csv(DATA_DIR /'GSE92742_Broad_LINCS_pert_info.txt', delimiter = \"\\t\")\n",
    "reference_df = reference_df.loc[reference_df.pert_id.isin(pert_id_unique), ['pert_id', 'canonical_smiles']]\n",
    "reference_df.canonical_smiles.value_counts()"
   ]
  },
  {
   "cell_type": "code",
   "execution_count": 7,
   "id": "af89b017",
   "metadata": {},
   "outputs": [
    {
     "name": "stdout",
     "output_type": "stream",
     "text": [
      "From 1120 total drugs, 132 were not part of the reference dataframe.\n"
     ]
    }
   ],
   "source": [
    "cond = ~pert_id_unique.isin(reference_df.pert_id)\n",
    "print(f\"From {len(pert_id_unique)} total drugs, {cond.sum()} were not part of the reference dataframe.\")"
   ]
  },
  {
   "cell_type": "markdown",
   "id": "5e902563",
   "metadata": {},
   "source": [
    "Adding `'canoncical_smiles'` column to `adata.obs` via `pd.merge`"
   ]
  },
  {
   "cell_type": "code",
   "execution_count": 8,
   "id": "af46b57e",
   "metadata": {},
   "outputs": [],
   "source": [
    "adata.obs = adata.obs.reset_index().merge(reference_df, how=\"left\").set_index('index')"
   ]
  },
  {
   "cell_type": "markdown",
   "id": "522909ba",
   "metadata": {},
   "source": [
    "Removing invalid SMILES strings "
   ]
  },
  {
   "cell_type": "code",
   "execution_count": 9,
   "id": "90662571-a7c4-46ce-a233-2b126c693d6c",
   "metadata": {},
   "outputs": [
    {
     "data": {
      "text/plain": [
       "index\n",
       "REP.A001_A375_24H_X1_B22:B13-2-0    BRD-A25234499\n",
       "REP.A001_A375_24H_X1_B22:B14-2-0    BRD-A25234499\n",
       "REP.A001_A375_24H_X1_B22:B15-2-0    BRD-A25234499\n",
       "REP.A001_A375_24H_X1_B22:B16-2-0    BRD-A25234499\n",
       "REP.A001_A375_24H_X1_B22:B17-2-0    BRD-A25234499\n",
       "                                        ...      \n",
       "PCLB003_PC3_24H_X3_B13:A04-1-1               DMSO\n",
       "PCLB003_PC3_24H_X3_B13:A05-1-1               DMSO\n",
       "PCLB003_PC3_24H_X3_B13:A06-1-1               DMSO\n",
       "PCLB003_PC3_24H_X3_B13:B04-1-1               DMSO\n",
       "PCLB003_PC3_24H_X3_B13:B05-1-1               DMSO\n",
       "Name: pert_id, Length: 199620, dtype: object"
      ]
     },
     "execution_count": 9,
     "metadata": {},
     "output_type": "execute_result"
    }
   ],
   "source": [
    "adata.obs.pert_id"
   ]
  },
  {
   "cell_type": "code",
   "execution_count": 10,
   "id": "dbba4b46-adf1-42d1-a630-b75da49fc70a",
   "metadata": {},
   "outputs": [
    {
     "data": {
      "text/html": [
       "<div>\n",
       "<style scoped>\n",
       "    .dataframe tbody tr th:only-of-type {\n",
       "        vertical-align: middle;\n",
       "    }\n",
       "\n",
       "    .dataframe tbody tr th {\n",
       "        vertical-align: top;\n",
       "    }\n",
       "\n",
       "    .dataframe thead th {\n",
       "        text-align: right;\n",
       "    }\n",
       "</style>\n",
       "<table border=\"1\" class=\"dataframe\">\n",
       "  <thead>\n",
       "    <tr style=\"text-align: right;\">\n",
       "      <th></th>\n",
       "      <th>pert_id</th>\n",
       "      <th>canonical_smiles</th>\n",
       "    </tr>\n",
       "  </thead>\n",
       "  <tbody>\n",
       "    <tr>\n",
       "      <th>102</th>\n",
       "      <td>BRD-A00474148</td>\n",
       "      <td>Oc1ccc(cc1)N1CCN(CC1)[S+]([O-])(=O)c1ccc2NC(=O...</td>\n",
       "    </tr>\n",
       "    <tr>\n",
       "      <th>108</th>\n",
       "      <td>BRD-A00827783</td>\n",
       "      <td>Cn1c2ncn(CC(O)CO)c2c(=O)n(C)c1=O</td>\n",
       "    </tr>\n",
       "    <tr>\n",
       "      <th>119</th>\n",
       "      <td>BRD-A01787639</td>\n",
       "      <td>COc1ccccc1N1CCN(CC(O)COc2cccc3ccccc23)CC1</td>\n",
       "    </tr>\n",
       "    <tr>\n",
       "      <th>131</th>\n",
       "      <td>BRD-A02367930</td>\n",
       "      <td>C[C@]12CCC3C(CCc4cc(O)ccc34)C1CC[C@@]2(O)C#C</td>\n",
       "    </tr>\n",
       "    <tr>\n",
       "      <th>155</th>\n",
       "      <td>BRD-A03946276</td>\n",
       "      <td>[O-][N+](=O)c1ccc2NC(=O)C3(NNc4ccccc4O3)c2c1</td>\n",
       "    </tr>\n",
       "    <tr>\n",
       "      <th>...</th>\n",
       "      <td>...</td>\n",
       "      <td>...</td>\n",
       "    </tr>\n",
       "    <tr>\n",
       "      <th>20470</th>\n",
       "      <td>BRD-U37049823</td>\n",
       "      <td>restricted</td>\n",
       "    </tr>\n",
       "    <tr>\n",
       "      <th>20490</th>\n",
       "      <td>BRD-U85918428</td>\n",
       "      <td>-666</td>\n",
       "    </tr>\n",
       "    <tr>\n",
       "      <th>20498</th>\n",
       "      <td>BRD-U97083655</td>\n",
       "      <td>restricted</td>\n",
       "    </tr>\n",
       "    <tr>\n",
       "      <th>26389</th>\n",
       "      <td>CMAP-PRISM-TP7</td>\n",
       "      <td>-666</td>\n",
       "    </tr>\n",
       "    <tr>\n",
       "      <th>30250</th>\n",
       "      <td>DMSO</td>\n",
       "      <td>CS(=O)C</td>\n",
       "    </tr>\n",
       "  </tbody>\n",
       "</table>\n",
       "<p>988 rows × 2 columns</p>\n",
       "</div>"
      ],
      "text/plain": [
       "              pert_id                                   canonical_smiles\n",
       "102     BRD-A00474148  Oc1ccc(cc1)N1CCN(CC1)[S+]([O-])(=O)c1ccc2NC(=O...\n",
       "108     BRD-A00827783                   Cn1c2ncn(CC(O)CO)c2c(=O)n(C)c1=O\n",
       "119     BRD-A01787639          COc1ccccc1N1CCN(CC(O)COc2cccc3ccccc23)CC1\n",
       "131     BRD-A02367930       C[C@]12CCC3C(CCc4cc(O)ccc34)C1CC[C@@]2(O)C#C\n",
       "155     BRD-A03946276       [O-][N+](=O)c1ccc2NC(=O)C3(NNc4ccccc4O3)c2c1\n",
       "...               ...                                                ...\n",
       "20470   BRD-U37049823                                         restricted\n",
       "20490   BRD-U85918428                                               -666\n",
       "20498   BRD-U97083655                                         restricted\n",
       "26389  CMAP-PRISM-TP7                                               -666\n",
       "30250            DMSO                                            CS(=O)C\n",
       "\n",
       "[988 rows x 2 columns]"
      ]
     },
     "execution_count": 10,
     "metadata": {},
     "output_type": "execute_result"
    }
   ],
   "source": [
    "reference_df"
   ]
  },
  {
   "cell_type": "code",
   "execution_count": 11,
   "id": "bf671352",
   "metadata": {},
   "outputs": [
    {
     "name": "stdout",
     "output_type": "stream",
     "text": [
      "Among 199620 observations, 11.54% (23033) have an invalid SMILES string\n"
     ]
    }
   ],
   "source": [
    "adata.obs.loc[:, 'canonical_smiles'] = adata.obs.canonical_smiles.astype('str')\n",
    "invalid_smiles = adata.obs.canonical_smiles.isin(['-666', 'restricted', 'nan'])\n",
    "print(f'Among {len(adata)} observations, {100*invalid_smiles.sum()/len(adata):.2f}% ({invalid_smiles.sum()}) have an invalid SMILES string')\n",
    "adata = adata[~invalid_smiles]"
   ]
  },
  {
   "cell_type": "markdown",
   "id": "414ffd2c",
   "metadata": {},
   "source": [
    "Remove invalid `'pert_dose'` value: `-666`"
   ]
  },
  {
   "cell_type": "code",
   "execution_count": 12,
   "id": "de7b41c1",
   "metadata": {},
   "outputs": [
    {
     "name": "stdout",
     "output_type": "stream",
     "text": [
      "A total of 0 observations have invalid dose values\n"
     ]
    }
   ],
   "source": [
    "cond = adata.obs.pert_dose.isin([-666])\n",
    "adata = adata[~cond]\n",
    "print(f\"A total of {cond.sum()} observations have invalid dose values\")"
   ]
  },
  {
   "cell_type": "code",
   "execution_count": 13,
   "id": "ec9936f6",
   "metadata": {},
   "outputs": [
    {
     "name": "stdout",
     "output_type": "stream",
     "text": [
      "A total of 0 observation belong to drugs which do not have enough replicates\n"
     ]
    }
   ],
   "source": [
    "drugs_validation = adata.obs.canonical_smiles.value_counts() < 6\n",
    "valid_drugs = drugs_validation.index[~drugs_validation]\n",
    "cond = adata.obs.canonical_smiles.isin(valid_drugs)\n",
    "print(f\"A total of {(~cond).sum()} observation belong to drugs which do not have enough replicates\")\n",
    "adata = adata[cond]"
   ]
  },
  {
   "cell_type": "markdown",
   "id": "9dcfc0cf",
   "metadata": {},
   "source": [
    "Checking that SMILES are valid according to `rdkit` "
   ]
  },
  {
   "cell_type": "code",
   "execution_count": 14,
   "id": "5dddf7db",
   "metadata": {},
   "outputs": [
    {
     "data": {
      "text/plain": [
       "View of AnnData object with n_obs × n_vars = 176587 × 978\n",
       "    obs: 'cell_id', 'det_plate', 'det_well', 'lincs_phase', 'pert_dose', 'pert_dose_unit', 'pert_id', 'pert_iname', 'pert_mfc_id', 'pert_time', 'pert_time_unit', 'pert_type', 'rna_plate', 'rna_well', 'batch', 'condition', 'cell_type', 'dose_val', 'cov_drug_dose_name', 'control', 'split', 'cov_drug_name', 'eval_category', 'canonical_smiles'\n",
       "    var: 'pr_gene_title', 'pr_is_lm', 'pr_is_bing'\n",
       "    uns: 'rank_genes_groups_cov'"
      ]
     },
     "execution_count": 14,
     "metadata": {},
     "output_type": "execute_result"
    }
   ],
   "source": [
    "from rdkit import Chem\n",
    "\n",
    "def check_smiles(smiles):\n",
    "    m = Chem.MolFromSmiles(smiles,sanitize=False)\n",
    "    if m is None:\n",
    "        print('invalid SMILES')\n",
    "        return False\n",
    "    else:\n",
    "        try:\n",
    "            Chem.SanitizeMol(m)\n",
    "        except:\n",
    "            print('invalid chemistry')\n",
    "            return False\n",
    "    return True\n",
    "\n",
    "def remove_invalid_smiles(dataframe, smiles_key: str = 'SMILES', return_condition: bool = False):\n",
    "    unique_drugs = pd.Series(np.unique(dataframe[smiles_key]))\n",
    "    valid_drugs = unique_drugs.apply(check_smiles)\n",
    "    print(f\"A total of {(~valid_drugs).sum()} have invalid SMILES strings\")\n",
    "    _validation_map = dict(zip(unique_drugs, valid_drugs))\n",
    "    cond = dataframe[smiles_key].apply(lambda x: _validation_map[x])\n",
    "    if return_condition: \n",
    "        return cond\n",
    "    dataframe = dataframe[cond].copy()\n",
    "    return dataframe\n",
    "\n",
    "adata"
   ]
  },
  {
   "cell_type": "code",
   "execution_count": 15,
   "id": "d0eebfcf",
   "metadata": {},
   "outputs": [
    {
     "name": "stdout",
     "output_type": "stream",
     "text": [
      "A total of 0 have invalid SMILES strings\n"
     ]
    }
   ],
   "source": [
    "cond = remove_invalid_smiles(adata.obs, smiles_key='canonical_smiles', return_condition=True)\n",
    "adata = adata[cond]"
   ]
  },
  {
   "cell_type": "markdown",
   "id": "8a0913c7",
   "metadata": {},
   "source": [
    "### Add additional drugbank info to `adata.obs`"
   ]
  },
  {
   "cell_type": "code",
   "execution_count": 16,
   "id": "fee11b5a",
   "metadata": {},
   "outputs": [
    {
     "ename": "ParserError",
     "evalue": "Error tokenizing data. C error: Expected 7 fields in line 36, saw 38\n",
     "output_type": "error",
     "traceback": [
      "\u001b[0;31m---------------------------------------------------------------------------\u001b[0m",
      "\u001b[0;31mParserError\u001b[0m                               Traceback (most recent call last)",
      "\u001b[0;32m/tmp/ipykernel_126305/1090317081.py\u001b[0m in \u001b[0;36m<module>\u001b[0;34m\u001b[0m\n\u001b[1;32m      3\u001b[0m \u001b[0mdrugbank_path\u001b[0m \u001b[0;34m=\u001b[0m \u001b[0mDATA_DIR\u001b[0m \u001b[0;34m/\u001b[0m \u001b[0;34m'drug_bank'\u001b[0m\u001b[0;34m/\u001b[0m \u001b[0;34m'drugbank_all.csv'\u001b[0m\u001b[0;34m\u001b[0m\u001b[0;34m\u001b[0m\u001b[0m\n\u001b[1;32m      4\u001b[0m \u001b[0;32mif\u001b[0m \u001b[0mexists\u001b[0m\u001b[0;34m(\u001b[0m\u001b[0mdrugbank_path\u001b[0m\u001b[0;34m)\u001b[0m\u001b[0;34m:\u001b[0m\u001b[0;34m\u001b[0m\u001b[0;34m\u001b[0m\u001b[0m\n\u001b[0;32m----> 5\u001b[0;31m     \u001b[0mdrugbank_df\u001b[0m \u001b[0;34m=\u001b[0m \u001b[0mpd\u001b[0m\u001b[0;34m.\u001b[0m\u001b[0mread_csv\u001b[0m\u001b[0;34m(\u001b[0m\u001b[0mdrugbank_path\u001b[0m\u001b[0;34m)\u001b[0m\u001b[0;34m\u001b[0m\u001b[0;34m\u001b[0m\u001b[0m\n\u001b[0m\u001b[1;32m      6\u001b[0m \u001b[0;32melse\u001b[0m\u001b[0;34m:\u001b[0m\u001b[0;34m\u001b[0m\u001b[0;34m\u001b[0m\u001b[0m\n\u001b[1;32m      7\u001b[0m     \u001b[0mprint\u001b[0m\u001b[0;34m(\u001b[0m\u001b[0;34mf'Invalid path: {drugbank_path}'\u001b[0m\u001b[0;34m)\u001b[0m\u001b[0;34m\u001b[0m\u001b[0;34m\u001b[0m\u001b[0m\n",
      "\u001b[0;32m~/miniconda3/envs/chemical_CPA/lib/python3.7/site-packages/pandas/util/_decorators.py\u001b[0m in \u001b[0;36mwrapper\u001b[0;34m(*args, **kwargs)\u001b[0m\n\u001b[1;32m    309\u001b[0m                     \u001b[0mstacklevel\u001b[0m\u001b[0;34m=\u001b[0m\u001b[0mstacklevel\u001b[0m\u001b[0;34m,\u001b[0m\u001b[0;34m\u001b[0m\u001b[0;34m\u001b[0m\u001b[0m\n\u001b[1;32m    310\u001b[0m                 )\n\u001b[0;32m--> 311\u001b[0;31m             \u001b[0;32mreturn\u001b[0m \u001b[0mfunc\u001b[0m\u001b[0;34m(\u001b[0m\u001b[0;34m*\u001b[0m\u001b[0margs\u001b[0m\u001b[0;34m,\u001b[0m \u001b[0;34m**\u001b[0m\u001b[0mkwargs\u001b[0m\u001b[0;34m)\u001b[0m\u001b[0;34m\u001b[0m\u001b[0;34m\u001b[0m\u001b[0m\n\u001b[0m\u001b[1;32m    312\u001b[0m \u001b[0;34m\u001b[0m\u001b[0m\n\u001b[1;32m    313\u001b[0m         \u001b[0;32mreturn\u001b[0m \u001b[0mwrapper\u001b[0m\u001b[0;34m\u001b[0m\u001b[0;34m\u001b[0m\u001b[0m\n",
      "\u001b[0;32m~/miniconda3/envs/chemical_CPA/lib/python3.7/site-packages/pandas/io/parsers/readers.py\u001b[0m in \u001b[0;36mread_csv\u001b[0;34m(filepath_or_buffer, sep, delimiter, header, names, index_col, usecols, squeeze, prefix, mangle_dupe_cols, dtype, engine, converters, true_values, false_values, skipinitialspace, skiprows, skipfooter, nrows, na_values, keep_default_na, na_filter, verbose, skip_blank_lines, parse_dates, infer_datetime_format, keep_date_col, date_parser, dayfirst, cache_dates, iterator, chunksize, compression, thousands, decimal, lineterminator, quotechar, quoting, doublequote, escapechar, comment, encoding, encoding_errors, dialect, error_bad_lines, warn_bad_lines, on_bad_lines, delim_whitespace, low_memory, memory_map, float_precision, storage_options)\u001b[0m\n\u001b[1;32m    584\u001b[0m     \u001b[0mkwds\u001b[0m\u001b[0;34m.\u001b[0m\u001b[0mupdate\u001b[0m\u001b[0;34m(\u001b[0m\u001b[0mkwds_defaults\u001b[0m\u001b[0;34m)\u001b[0m\u001b[0;34m\u001b[0m\u001b[0;34m\u001b[0m\u001b[0m\n\u001b[1;32m    585\u001b[0m \u001b[0;34m\u001b[0m\u001b[0m\n\u001b[0;32m--> 586\u001b[0;31m     \u001b[0;32mreturn\u001b[0m \u001b[0m_read\u001b[0m\u001b[0;34m(\u001b[0m\u001b[0mfilepath_or_buffer\u001b[0m\u001b[0;34m,\u001b[0m \u001b[0mkwds\u001b[0m\u001b[0;34m)\u001b[0m\u001b[0;34m\u001b[0m\u001b[0;34m\u001b[0m\u001b[0m\n\u001b[0m\u001b[1;32m    587\u001b[0m \u001b[0;34m\u001b[0m\u001b[0m\n\u001b[1;32m    588\u001b[0m \u001b[0;34m\u001b[0m\u001b[0m\n",
      "\u001b[0;32m~/miniconda3/envs/chemical_CPA/lib/python3.7/site-packages/pandas/io/parsers/readers.py\u001b[0m in \u001b[0;36m_read\u001b[0;34m(filepath_or_buffer, kwds)\u001b[0m\n\u001b[1;32m    486\u001b[0m \u001b[0;34m\u001b[0m\u001b[0m\n\u001b[1;32m    487\u001b[0m     \u001b[0;32mwith\u001b[0m \u001b[0mparser\u001b[0m\u001b[0;34m:\u001b[0m\u001b[0;34m\u001b[0m\u001b[0;34m\u001b[0m\u001b[0m\n\u001b[0;32m--> 488\u001b[0;31m         \u001b[0;32mreturn\u001b[0m \u001b[0mparser\u001b[0m\u001b[0;34m.\u001b[0m\u001b[0mread\u001b[0m\u001b[0;34m(\u001b[0m\u001b[0mnrows\u001b[0m\u001b[0;34m)\u001b[0m\u001b[0;34m\u001b[0m\u001b[0;34m\u001b[0m\u001b[0m\n\u001b[0m\u001b[1;32m    489\u001b[0m \u001b[0;34m\u001b[0m\u001b[0m\n\u001b[1;32m    490\u001b[0m \u001b[0;34m\u001b[0m\u001b[0m\n",
      "\u001b[0;32m~/miniconda3/envs/chemical_CPA/lib/python3.7/site-packages/pandas/io/parsers/readers.py\u001b[0m in \u001b[0;36mread\u001b[0;34m(self, nrows)\u001b[0m\n\u001b[1;32m   1045\u001b[0m     \u001b[0;32mdef\u001b[0m \u001b[0mread\u001b[0m\u001b[0;34m(\u001b[0m\u001b[0mself\u001b[0m\u001b[0;34m,\u001b[0m \u001b[0mnrows\u001b[0m\u001b[0;34m=\u001b[0m\u001b[0;32mNone\u001b[0m\u001b[0;34m)\u001b[0m\u001b[0;34m:\u001b[0m\u001b[0;34m\u001b[0m\u001b[0;34m\u001b[0m\u001b[0m\n\u001b[1;32m   1046\u001b[0m         \u001b[0mnrows\u001b[0m \u001b[0;34m=\u001b[0m \u001b[0mvalidate_integer\u001b[0m\u001b[0;34m(\u001b[0m\u001b[0;34m\"nrows\"\u001b[0m\u001b[0;34m,\u001b[0m \u001b[0mnrows\u001b[0m\u001b[0;34m)\u001b[0m\u001b[0;34m\u001b[0m\u001b[0;34m\u001b[0m\u001b[0m\n\u001b[0;32m-> 1047\u001b[0;31m         \u001b[0mindex\u001b[0m\u001b[0;34m,\u001b[0m \u001b[0mcolumns\u001b[0m\u001b[0;34m,\u001b[0m \u001b[0mcol_dict\u001b[0m \u001b[0;34m=\u001b[0m \u001b[0mself\u001b[0m\u001b[0;34m.\u001b[0m\u001b[0m_engine\u001b[0m\u001b[0;34m.\u001b[0m\u001b[0mread\u001b[0m\u001b[0;34m(\u001b[0m\u001b[0mnrows\u001b[0m\u001b[0;34m)\u001b[0m\u001b[0;34m\u001b[0m\u001b[0;34m\u001b[0m\u001b[0m\n\u001b[0m\u001b[1;32m   1048\u001b[0m \u001b[0;34m\u001b[0m\u001b[0m\n\u001b[1;32m   1049\u001b[0m         \u001b[0;32mif\u001b[0m \u001b[0mindex\u001b[0m \u001b[0;32mis\u001b[0m \u001b[0;32mNone\u001b[0m\u001b[0;34m:\u001b[0m\u001b[0;34m\u001b[0m\u001b[0;34m\u001b[0m\u001b[0m\n",
      "\u001b[0;32m~/miniconda3/envs/chemical_CPA/lib/python3.7/site-packages/pandas/io/parsers/c_parser_wrapper.py\u001b[0m in \u001b[0;36mread\u001b[0;34m(self, nrows)\u001b[0m\n\u001b[1;32m    222\u001b[0m         \u001b[0;32mtry\u001b[0m\u001b[0;34m:\u001b[0m\u001b[0;34m\u001b[0m\u001b[0;34m\u001b[0m\u001b[0m\n\u001b[1;32m    223\u001b[0m             \u001b[0;32mif\u001b[0m \u001b[0mself\u001b[0m\u001b[0;34m.\u001b[0m\u001b[0mlow_memory\u001b[0m\u001b[0;34m:\u001b[0m\u001b[0;34m\u001b[0m\u001b[0;34m\u001b[0m\u001b[0m\n\u001b[0;32m--> 224\u001b[0;31m                 \u001b[0mchunks\u001b[0m \u001b[0;34m=\u001b[0m \u001b[0mself\u001b[0m\u001b[0;34m.\u001b[0m\u001b[0m_reader\u001b[0m\u001b[0;34m.\u001b[0m\u001b[0mread_low_memory\u001b[0m\u001b[0;34m(\u001b[0m\u001b[0mnrows\u001b[0m\u001b[0;34m)\u001b[0m\u001b[0;34m\u001b[0m\u001b[0;34m\u001b[0m\u001b[0m\n\u001b[0m\u001b[1;32m    225\u001b[0m                 \u001b[0;31m# destructive to chunks\u001b[0m\u001b[0;34m\u001b[0m\u001b[0;34m\u001b[0m\u001b[0;34m\u001b[0m\u001b[0m\n\u001b[1;32m    226\u001b[0m                 \u001b[0mdata\u001b[0m \u001b[0;34m=\u001b[0m \u001b[0m_concatenate_chunks\u001b[0m\u001b[0;34m(\u001b[0m\u001b[0mchunks\u001b[0m\u001b[0;34m)\u001b[0m\u001b[0;34m\u001b[0m\u001b[0;34m\u001b[0m\u001b[0m\n",
      "\u001b[0;32m~/miniconda3/envs/chemical_CPA/lib/python3.7/site-packages/pandas/_libs/parsers.pyx\u001b[0m in \u001b[0;36mpandas._libs.parsers.TextReader.read_low_memory\u001b[0;34m()\u001b[0m\n",
      "\u001b[0;32m~/miniconda3/envs/chemical_CPA/lib/python3.7/site-packages/pandas/_libs/parsers.pyx\u001b[0m in \u001b[0;36mpandas._libs.parsers.TextReader._read_rows\u001b[0;34m()\u001b[0m\n",
      "\u001b[0;32m~/miniconda3/envs/chemical_CPA/lib/python3.7/site-packages/pandas/_libs/parsers.pyx\u001b[0m in \u001b[0;36mpandas._libs.parsers.TextReader._tokenize_rows\u001b[0;34m()\u001b[0m\n",
      "\u001b[0;32m~/miniconda3/envs/chemical_CPA/lib/python3.7/site-packages/pandas/_libs/parsers.pyx\u001b[0m in \u001b[0;36mpandas._libs.parsers.raise_parser_error\u001b[0;34m()\u001b[0m\n",
      "\u001b[0;31mParserError\u001b[0m: Error tokenizing data. C error: Expected 7 fields in line 36, saw 38\n"
     ]
    }
   ],
   "source": [
    "from os.path import exists\n",
    "\n",
    "drugbank_path = DATA_DIR / 'drug_bank'/ 'drugbank_all.csv'\n",
    "if exists(drugbank_path): \n",
    "    drugbank_df = pd.read_csv(drugbank_path)\n",
    "else: \n",
    "    print(f'Invalid path: {drugbank_path}')"
   ]
  },
  {
   "cell_type": "code",
   "execution_count": 19,
   "id": "5d10ca06",
   "metadata": {},
   "outputs": [
    {
     "name": "stdout",
     "output_type": "stream",
     "text": [
      "DATA_DIR: /storage/kasperek/sc-transformer/forkCPA/datasets\n",
      "/storage/kasperek/sc-transformer/forkCPA/datasets/drug_bank/drugbank_all.csv\n",
      "total 18483388\n",
      "-rw-rw-r-- 1 ubuntu ubuntu    4746472 Mar  3  2017 GSE92742_Broad_LINCS_pert_info.txt\n",
      "lrwxrwxrwx 1 ubuntu ubuntu         41 Feb  7  2021 GSM_2k_hvg.h5ad -> /private/home/klanna/data/GSM_2k_hvg.h5ad\n",
      "lrwxrwxrwx 1 ubuntu ubuntu         52 Feb  7  2021 GSM_counts_prepared_2.h5ad -> /private/home/klanna/data/GSM_counts_prepared_2.h5ad\n",
      "-rw-rw-r-- 1 ubuntu ubuntu  178640710 Apr 12  2021 GSM_new.h5ad\n",
      "-rw-rw-r-- 1 ubuntu ubuntu  489587090 Apr 12  2021 GSM_raw.h5ad\n",
      "-rw-rw-r-- 1 ubuntu ubuntu  762145505 Apr 12  2021 Norman2019.h5ad\n",
      "-rw-rw-r-- 1 ubuntu ubuntu  760216164 Apr 12  2021 Norman2019_prep_new.h5ad\n",
      "-rw-rw-r-- 1 ubuntu ubuntu  762145505 Apr 12  2021 Norman2019_raw.h5ad\n",
      "lrwxrwxrwx 1 ubuntu ubuntu         41 Feb  7  2021 adata_cs_2.h5ad -> /private/home/klanna/data/adata_cs_2.h5ad\n",
      "-rw-rw-r-- 1 ubuntu ubuntu 1621555592 Apr 12  2021 cross_species_new.h5ad\n",
      "-rw-rw-r-- 1 ubuntu ubuntu 1113174616 Apr 12  2021 cross_species_raw.h5ad\n",
      "drwxrwxr-x 2 ubuntu ubuntu       4096 Jun  9 14:32 drug_bank\n",
      "-rw-rw-r-- 1 ubuntu ubuntu  688089435 Apr 12  2021 lincs.h5ad\n",
      "-rw-rw-r-- 1 ubuntu ubuntu 4157760477 Jun  6 18:53 lincs_full.h5ad\n",
      "-rw-rw-r-- 1 ubuntu ubuntu  552832920 Jun  6 19:28 lincs_pp.h5ad\n",
      "-rw-rw-r-- 1 ubuntu ubuntu   63668021 Apr 12  2021 pachter.h5ad\n",
      "lrwxrwxrwx 1 ubuntu ubuntu         49 Feb  7  2021 pachter_fakecounts.h5ad -> /private/home/klanna/data/pachter_fakecounts.h5ad\n",
      "-rw-rw-r-- 1 ubuntu ubuntu  273784537 Apr 12  2021 pachter_new.h5ad\n",
      "-rw-rw-r-- 1 ubuntu ubuntu  225230973 Apr 12  2021 pachter_raw.h5ad\n",
      "-rw-rw-r-- 1 ubuntu ubuntu  133157282 Apr 12  2021 sciplex3_new.h5ad\n",
      "-rw-rw-r-- 1 ubuntu ubuntu  132619196 Apr 12  2021 sciplex3_old_reproduced.h5ad\n",
      "-rw-rw-r-- 1 ubuntu ubuntu  417009839 Jun  6 18:49 sciplex_complete_middle_subset.h5ad\n",
      "-rw-rw-r-- 1 ubuntu ubuntu  390051603 Jun  6 18:49 sciplex_complete_middle_subset_lincs_genes.h5ad\n",
      "-rw-rw-r-- 1 ubuntu ubuntu  889844284 Apr 12  2021 sciplex_raw_chunk_0.h5ad\n",
      "-rw-rw-r-- 1 ubuntu ubuntu 1329492556 Apr 12  2021 sciplex_raw_chunk_1.h5ad\n",
      "-rw-rw-r-- 1 ubuntu ubuntu 1652792660 Apr 12  2021 sciplex_raw_chunk_2.h5ad\n",
      "-rw-rw-r-- 1 ubuntu ubuntu 1500421460 Apr 12  2021 sciplex_raw_chunk_3.h5ad\n",
      "-rw-rw-r-- 1 ubuntu ubuntu  827912692 Apr 12  2021 sciplex_raw_chunk_4.h5ad\n"
     ]
    }
   ],
   "source": [
    "print(f\"DATA_DIR: {DATA_DIR}\")\n",
    "print(f\"{DATA_DIR / 'drug_bank'/ 'drugbank_all.csv'}\")\n",
    "#print list of files in DATA_DIR (only the ones in the first level, only names)\n",
    "!ls -l $DATA_DIR"
   ]
  },
  {
   "cell_type": "code",
   "execution_count": null,
   "id": "359f5d79",
   "metadata": {},
   "outputs": [
    {
     "ename": "NameError",
     "evalue": "name 'drugbank_df' is not defined",
     "output_type": "error",
     "traceback": [
      "\u001b[0;31m---------------------------------------------------------------------------\u001b[0m",
      "\u001b[0;31mNameError\u001b[0m                                 Traceback (most recent call last)",
      "\u001b[0;32m/tmp/ipykernel_123215/843928696.py\u001b[0m in \u001b[0;36m<module>\u001b[0;34m\u001b[0m\n\u001b[1;32m      2\u001b[0m \u001b[0;34m\u001b[0m\u001b[0m\n\u001b[1;32m      3\u001b[0m \u001b[0mdrugs_canonical\u001b[0m \u001b[0;34m=\u001b[0m \u001b[0mpd\u001b[0m\u001b[0;34m.\u001b[0m\u001b[0mSeries\u001b[0m\u001b[0;34m(\u001b[0m\u001b[0mnp\u001b[0m\u001b[0;34m.\u001b[0m\u001b[0munique\u001b[0m\u001b[0;34m(\u001b[0m\u001b[0madata\u001b[0m\u001b[0;34m.\u001b[0m\u001b[0mobs\u001b[0m\u001b[0;34m.\u001b[0m\u001b[0mcanonical_smiles\u001b[0m\u001b[0;34m)\u001b[0m\u001b[0;34m)\u001b[0m\u001b[0;34m.\u001b[0m\u001b[0mapply\u001b[0m\u001b[0;34m(\u001b[0m\u001b[0mCanonSmiles\u001b[0m\u001b[0;34m)\u001b[0m\u001b[0;34m\u001b[0m\u001b[0;34m\u001b[0m\u001b[0m\n\u001b[0;32m----> 4\u001b[0;31m \u001b[0mdb_canonical_smiles\u001b[0m \u001b[0;34m=\u001b[0m \u001b[0mdrugbank_df\u001b[0m\u001b[0;34m.\u001b[0m\u001b[0mSMILES\u001b[0m\u001b[0;34m.\u001b[0m\u001b[0mapply\u001b[0m\u001b[0;34m(\u001b[0m\u001b[0mCanonSmiles\u001b[0m\u001b[0;34m)\u001b[0m\u001b[0;34m\u001b[0m\u001b[0;34m\u001b[0m\u001b[0m\n\u001b[0m\u001b[1;32m      5\u001b[0m \u001b[0mn_overlap\u001b[0m \u001b[0;34m=\u001b[0m \u001b[0mdrugs_canonical\u001b[0m\u001b[0;34m.\u001b[0m\u001b[0misin\u001b[0m\u001b[0;34m(\u001b[0m\u001b[0mdb_canonical_smiles\u001b[0m\u001b[0;34m)\u001b[0m\u001b[0;34m.\u001b[0m\u001b[0msum\u001b[0m\u001b[0;34m(\u001b[0m\u001b[0;34m)\u001b[0m\u001b[0;34m\u001b[0m\u001b[0;34m\u001b[0m\u001b[0m\n\u001b[1;32m      6\u001b[0m \u001b[0mprint\u001b[0m\u001b[0;34m(\u001b[0m\u001b[0;34mf'From a total of {len(drugs_canonical)}, {100*n_overlap/len(drugs_canonical):.2f}% ({n_overlap}) is also available in drugbank.'\u001b[0m\u001b[0;34m)\u001b[0m\u001b[0;34m\u001b[0m\u001b[0;34m\u001b[0m\u001b[0m\n",
      "\u001b[0;31mNameError\u001b[0m: name 'drugbank_df' is not defined"
     ]
    }
   ],
   "source": [
    "from rdkit.Chem import CanonSmiles\n",
    "\n",
    "drugs_canonical = pd.Series(np.unique(adata.obs.canonical_smiles)).apply(CanonSmiles)\n",
    "db_canonical_smiles = drugbank_df.SMILES.apply(CanonSmiles)\n",
    "n_overlap = drugs_canonical.isin(db_canonical_smiles).sum()\n",
    "print(f'From a total of {len(drugs_canonical)}, {100*n_overlap/len(drugs_canonical):.2f}% ({n_overlap}) is also available in drugbank.')"
   ]
  },
  {
   "cell_type": "code",
   "execution_count": null,
   "id": "9ee53d92",
   "metadata": {},
   "outputs": [
    {
     "data": {
      "text/plain": [
       "ATC_level_1                               \n",
       "an                                            393\n",
       "NERVOUS SYSTEM                                184\n",
       "CARDIOVASCULAR SYSTEM                         152\n",
       "ANTINEOPLASTIC AND IMMUNOMODULATING AGENTS     98\n",
       "ALIMENTARY TRACT AND METABOLISM                93\n",
       "ANTIINFECTIVES FOR SYSTEMIC USE                81\n",
       "RESPIRATORY SYSTEM                             78\n",
       "GENITO URINARY SYSTEM AND SEX HORMONES         60\n",
       "MUSCULO-SKELETAL SYSTEM                        58\n",
       "DERMATOLOGICALS                                51\n",
       "SENSORY ORGANS                                 47\n",
       "INSECTICIDES AND REPELLENTS                    29\n",
       "VARIOUS                                        21\n",
       "BLOOD AND BLOOD FORMING ORGANS                 17\n",
       "EXCL. SEX HORMONES AND INSULINS                 7\n",
       "dtype: int64"
      ]
     },
     "execution_count": 17,
     "metadata": {},
     "output_type": "execute_result"
    }
   ],
   "source": [
    "cond = db_canonical_smiles.isin(drugs_canonical)\n",
    "drugbank_df.loc[cond, ['ATC_level_1']].value_counts()"
   ]
  },
  {
   "cell_type": "markdown",
   "id": "7c9b067f",
   "metadata": {},
   "source": [
    "### Add `train`, `test`, `ood` split for full lincs dataset (if not already part in `adata.obs`)"
   ]
  },
  {
   "cell_type": "code",
   "execution_count": null,
   "id": "95863255",
   "metadata": {},
   "outputs": [],
   "source": [
    "from sklearn.model_selection import train_test_split\n",
    "\n",
    "if 'split' not in list(adata.obs):\n",
    "    print(\"Addig 'split' to 'adata.obs'.\")\n",
    "    unique_drugs = np.unique(adata.obs.canonical_smiles)\n",
    "    drugs_train, drugs_tmp = train_test_split(unique_drugs, test_size=0.2)\n",
    "    drugs_val, drugs_test = train_test_split(drugs_tmp, test_size=0.5)\n",
    "\n",
    "    adata.obs['split'] = 'train'\n",
    "    adata.obs.loc[adata.obs.canonical_smiles.isin(drugs_val), 'split'] = 'test'\n",
    "    adata.obs.loc[adata.obs.canonical_smiles.isin(drugs_test), 'split'] = 'ood'"
   ]
  },
  {
   "cell_type": "markdown",
   "id": "78ff6d72",
   "metadata": {},
   "source": [
    "### Check that `.obs.split=='test'` has sufficient samples for `pert_id` and `cell_id`"
   ]
  },
  {
   "cell_type": "code",
   "execution_count": null,
   "id": "c722736d",
   "metadata": {
    "scrolled": true
   },
   "outputs": [
    {
     "data": {
      "text/plain": [
       "train    699463\n",
       "test     133383\n",
       "ood        7831\n",
       "Name: split, dtype: int64"
      ]
     },
     "execution_count": 19,
     "metadata": {},
     "output_type": "execute_result"
    }
   ],
   "source": [
    "adata.obs.split.value_counts()"
   ]
  },
  {
   "cell_type": "code",
   "execution_count": null,
   "id": "32c75e98",
   "metadata": {},
   "outputs": [
    {
     "data": {
      "text/plain": [
       "MCF7        18766\n",
       "VCAP        17841\n",
       "PC3         17414\n",
       "A375        11188\n",
       "HT29        10970\n",
       "            ...  \n",
       "HUES3          93\n",
       "SNUC5          89\n",
       "NCIH1694       86\n",
       "SKMEL28        77\n",
       "HS27A           9\n",
       "Name: cell_id, Length: 82, dtype: int64"
      ]
     },
     "execution_count": 20,
     "metadata": {},
     "output_type": "execute_result"
    }
   ],
   "source": [
    "cond_test = adata.obs.split.isin(['test'])\n",
    "adata.obs.loc[cond_test, 'cell_id'].value_counts()"
   ]
  },
  {
   "cell_type": "code",
   "execution_count": null,
   "id": "c81c0887",
   "metadata": {},
   "outputs": [
    {
     "data": {
      "text/plain": [
       "BRD-K60230970    904\n",
       "BRD-K50691590    882\n",
       "BRD-K81418486    694\n",
       "DMSO             618\n",
       "BRD-A19500257    538\n",
       "                ... \n",
       "BRD-K79746073      1\n",
       "BRD-K01751906      1\n",
       "BRD-K10558099      1\n",
       "BRD-K29360016      1\n",
       "BRD-K23208702      1\n",
       "Name: pert_id, Length: 15649, dtype: int64"
      ]
     },
     "execution_count": 21,
     "metadata": {},
     "output_type": "execute_result"
    }
   ],
   "source": [
    "adata.obs.loc[cond_test, 'pert_id'].value_counts()"
   ]
  },
  {
   "cell_type": "code",
   "execution_count": null,
   "id": "afae53ff",
   "metadata": {},
   "outputs": [
    {
     "name": "stdout",
     "output_type": "stream",
     "text": [
      "pert_id: 9257/15649 converted back to 'train' due to insufficient # of samples.\n",
      "cell_id: 1/82 converted back to 'train' due to insufficient # of samples.\n"
     ]
    }
   ],
   "source": [
    "pert_count_treshold = 5\n",
    "cov_count_treshold = 20\n",
    "\n",
    "pert_id_neg = adata.obs.loc[cond_test, 'pert_id'].value_counts() < pert_count_treshold\n",
    "print(f\"pert_id: {pert_id_neg.sum()}/{len(pert_id_neg)} converted back to 'train' due to insufficient # of samples.\")\n",
    "\n",
    "cov_id_neg = adata.obs.loc[cond_test, 'cell_id'].value_counts() < cov_count_treshold\n",
    "print(f\"cell_id: {cov_id_neg.sum()}/{len(cov_id_neg)} converted back to 'train' due to insufficient # of samples.\")\n",
    "\n",
    "cond = cond_test & adata.obs.pert_id.isin(pert_id_neg.index[pert_id_neg])\n",
    "cond |= cond_test & adata.obs.cell_id.isin(cov_id_neg.index[cov_id_neg])"
   ]
  },
  {
   "cell_type": "code",
   "execution_count": null,
   "id": "40e07beb",
   "metadata": {},
   "outputs": [
    {
     "name": "stdout",
     "output_type": "stream",
     "text": [
      "split['test']: 18885/840677 samples are converted back to 'train'.\n"
     ]
    }
   ],
   "source": [
    "adata.obs['split1'] = adata.obs.split.copy()\n",
    "adata.obs.loc[cond, 'split1'] = 'train'\n",
    "print(f\"split['test']: {cond.sum()}/{len(cond)} samples are converted back to 'train'.\")"
   ]
  },
  {
   "cell_type": "code",
   "execution_count": null,
   "id": "c61c2bb5",
   "metadata": {},
   "outputs": [
    {
     "data": {
      "text/plain": [
       "train    718348\n",
       "test     114498\n",
       "ood        7831\n",
       "Name: split1, dtype: int64"
      ]
     },
     "execution_count": 25,
     "metadata": {},
     "output_type": "execute_result"
    }
   ],
   "source": [
    "adata.obs.split1.value_counts()"
   ]
  },
  {
   "cell_type": "markdown",
   "id": "78183892-2ca1-438d-81d8-755ae4594786",
   "metadata": {},
   "source": [
    "### Add random split"
   ]
  },
  {
   "cell_type": "code",
   "execution_count": null,
   "id": "1a98bfd9-5b73-4ead-a3b8-aa322aa94d58",
   "metadata": {},
   "outputs": [
    {
     "data": {
      "text/plain": [
       "Index(['REP.A001_A375_24H_X1_B22:B13-2', 'REP.A001_A375_24H_X1_B22:B14-2',\n",
       "       'REP.A001_A375_24H_X1_B22:B15-2', 'REP.A001_A375_24H_X1_B22:B16-2',\n",
       "       'REP.A001_A375_24H_X1_B22:B17-2', 'REP.A001_A375_24H_X1_B22:B18-2',\n",
       "       'REP.A001_A375_24H_X1_B22:B19-2', 'REP.A001_A375_24H_X1_B22:B20-2',\n",
       "       'REP.A001_A375_24H_X1_B22:B21-2', 'REP.A001_A375_24H_X1_B22:B22-2',\n",
       "       ...\n",
       "       'PCLB003_PC3_24H_X3_B13:P15-1', 'PCLB003_PC3_24H_X3_B13:P16-1',\n",
       "       'PCLB003_PC3_24H_X3_B13:P17-1', 'PCLB003_PC3_24H_X3_B13:P18-1',\n",
       "       'PCLB003_PC3_24H_X3_B13:P19-1', 'PCLB003_PC3_24H_X3_B13:P20-1',\n",
       "       'PCLB003_PC3_24H_X3_B13:P21-1', 'PCLB003_PC3_24H_X3_B13:P22-1',\n",
       "       'PCLB003_PC3_24H_X3_B13:P23-1', 'PCLB003_PC3_24H_X3_B13:P24-1'],\n",
       "      dtype='object', name='index', length=840677)"
      ]
     },
     "execution_count": 26,
     "metadata": {},
     "output_type": "execute_result"
    }
   ],
   "source": [
    "adata.obs_names"
   ]
  },
  {
   "cell_type": "code",
   "execution_count": null,
   "id": "34d1a18d-4bf8-4ca9-8d15-941f133dd0bd",
   "metadata": {},
   "outputs": [],
   "source": [
    "train_obs, val_test_obs = train_test_split(adata.obs_names, test_size=0.15)\n",
    "val_obs, test_obs = train_test_split(val_test_obs, test_size=0.5)"
   ]
  },
  {
   "cell_type": "code",
   "execution_count": null,
   "id": "78043233-07ad-4f63-ba04-71bae3a1b651",
   "metadata": {},
   "outputs": [
    {
     "data": {
      "text/plain": [
       "train    714575\n",
       "test      63051\n",
       "ood       63051\n",
       "Name: random_split, dtype: int64"
      ]
     },
     "execution_count": 28,
     "metadata": {},
     "output_type": "execute_result"
    }
   ],
   "source": [
    "adata.obs['random_split'] = ''\n",
    "adata.obs.loc[train_obs, 'random_split'] = 'train'\n",
    "adata.obs.loc[val_obs, 'random_split'] = 'test'\n",
    "adata.obs.loc[test_obs, 'random_split'] = 'ood'\n",
    "\n",
    "\n",
    "adata.obs['random_split'].value_counts() "
   ]
  },
  {
   "cell_type": "markdown",
   "id": "d2f7bde3-b929-4424-b2c0-7ba59240984b",
   "metadata": {},
   "source": [
    "Check that perturbations occur in train split (no explicit ood!)"
   ]
  },
  {
   "cell_type": "code",
   "execution_count": null,
   "id": "242ded38-28f0-4c33-a6b9-87e0e25c8513",
   "metadata": {},
   "outputs": [
    {
     "data": {
      "text/plain": [
       "17775"
      ]
     },
     "execution_count": 29,
     "metadata": {},
     "output_type": "execute_result"
    }
   ],
   "source": [
    "len(adata.obs.loc[adata.obs.random_split == 'train', 'pert_id'].unique()) "
   ]
  },
  {
   "cell_type": "code",
   "execution_count": null,
   "id": "7a9ecf12-6a7b-4fec-845c-080c0195b096",
   "metadata": {},
   "outputs": [
    {
     "data": {
      "text/plain": [
       "17775"
      ]
     },
     "execution_count": 30,
     "metadata": {},
     "output_type": "execute_result"
    }
   ],
   "source": [
    "len(adata.obs.pert_id.unique())"
   ]
  },
  {
   "cell_type": "markdown",
   "id": "00686c82-c4aa-4d4c-924a-d15978885303",
   "metadata": {},
   "source": [
    "## Safe adata"
   ]
  },
  {
   "cell_type": "code",
   "execution_count": null,
   "id": "095e119c",
   "metadata": {},
   "outputs": [
    {
     "name": "stderr",
     "output_type": "stream",
     "text": [
      "... storing 'pert_id' as categorical\n",
      "... storing 'canonical_smiles' as categorical\n",
      "... storing 'random_split' as categorical\n"
     ]
    },
    {
     "data": {
      "text/plain": [
       "AnnData object with n_obs × n_vars = 840677 × 978\n",
       "    obs: 'cell_id', 'det_plate', 'det_well', 'lincs_phase', 'pert_dose', 'pert_dose_unit', 'pert_id', 'pert_iname', 'pert_mfc_id', 'pert_time', 'pert_time_unit', 'pert_type', 'rna_plate', 'rna_well', 'condition', 'cell_type', 'dose_val', 'cov_drug_dose_name', 'control', 'split', 'canonical_smiles', 'split1', 'random_split'\n",
       "    var: 'pr_gene_title', 'pr_is_lm', 'pr_is_bing'\n",
       "    uns: 'cydata_pull', 'rank_genes_groups_cov'"
      ]
     },
     "execution_count": 31,
     "metadata": {},
     "output_type": "execute_result"
    }
   ],
   "source": [
    "adata.write(adata_out)\n",
    "adata"
   ]
  },
  {
   "cell_type": "code",
   "execution_count": null,
   "id": "f0a38b13",
   "metadata": {},
   "outputs": [],
   "source": [
    "# adata.obs['drug_dose_name']"
   ]
  },
  {
   "cell_type": "markdown",
   "id": "6a17866a",
   "metadata": {},
   "source": [
    "### Loading the result for `adata_out`"
   ]
  },
  {
   "cell_type": "code",
   "execution_count": null,
   "id": "3cc86c78",
   "metadata": {},
   "outputs": [],
   "source": [
    "adata = sc.read(adata_out)"
   ]
  },
  {
   "cell_type": "markdown",
   "id": "3591acc0",
   "metadata": {},
   "source": [
    "**Additional**: Check that `adata.uns[rank_genes_groups_cov]` has all entries in `adata.obs.cov_drug_dose_name` as keys"
   ]
  },
  {
   "cell_type": "code",
   "execution_count": null,
   "id": "13c39c39",
   "metadata": {},
   "outputs": [],
   "source": [
    "for i, k in enumerate(adata.obs.cov_drug_dose_name.unique()):\n",
    "    try: \n",
    "        adata.uns['rank_genes_groups_cov'][k]\n",
    "    except: \n",
    "        print(f\"{i}: {k}\") if 'DMSO' not in k else None"
   ]
  },
  {
   "cell_type": "code",
   "execution_count": null,
   "id": "f2f4bee2",
   "metadata": {},
   "outputs": [],
   "source": []
  }
 ],
 "metadata": {
  "interpreter": {
   "hash": "ad25c9354f8cefdf5a943c25e67813a21d2807e3af4d6d0915e47390a83b57ce"
  },
  "kernelspec": {
   "display_name": "Python 3",
   "language": "python",
   "name": "python3"
  },
  "language_info": {
   "codemirror_mode": {
    "name": "ipython",
    "version": 3
   },
   "file_extension": ".py",
   "mimetype": "text/x-python",
   "name": "python",
   "nbconvert_exporter": "python",
   "pygments_lexer": "ipython3",
   "version": "3.8.17"
  }
 },
 "nbformat": 4,
 "nbformat_minor": 5
}
